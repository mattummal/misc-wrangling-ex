{
  "nbformat": 4,
  "nbformat_minor": 0,
  "metadata": {
    "colab": {
      "provenance": []
    },
    "kernelspec": {
      "name": "python3",
      "display_name": "Python 3"
    }
  },
  "cells": [
    {
      "cell_type": "markdown",
      "metadata": {
        "id": "WLEgCW5F1hho"
      },
      "source": [
        "## Pandas\n",
        "\n",
        "### Table of contents:\n",
        "* [Import biblioteki](#0)\n",
        "* [Exercise 121](#1)\n",
        "* [Exercise 122](#2)\n",
        "* [Exercise 123](#3)\n",
        "* [Exercise 124](#4)\n",
        "* [Exercise 125](#5)\n",
        "* [Exercise 126](#6)\n",
        "* [Exercise 127](#7)\n",
        "* [Exercise 128](#8)\n",
        "* [Exercise 129](#9)\n",
        "* [Exercise 130](#10)"
      ]
    },
    {
      "cell_type": "markdown",
      "metadata": {
        "id": "zeLOLmTj1kBM"
      },
      "source": [
        "### <a name='0'></a> Import of libraries"
      ]
    },
    {
      "cell_type": "code",
      "metadata": {
        "id": "HXMB7SMe1Wnz",
        "colab": {
          "base_uri": "https://localhost:8080/",
          "height": 86
        },
        "outputId": "cb079317-0b51-47d0-aade-24e1cb68774d"
      },
      "source": [
        "import numpy as np\n",
        "import pandas as pd\n",
        "import seaborn as sns\n",
        "\n",
        "sns.set()\n",
        "np.__version__"
      ],
      "execution_count": null,
      "outputs": [
        {
          "output_type": "stream",
          "text": [
            "/usr/local/lib/python3.6/dist-packages/statsmodels/tools/_testing.py:19: FutureWarning: pandas.util.testing is deprecated. Use the functions in the public API at pandas.testing instead.\n",
            "  import pandas.util.testing as tm\n"
          ],
          "name": "stderr"
        },
        {
          "output_type": "execute_result",
          "data": {
            "text/plain": [
              "'1.18.4'"
            ]
          },
          "metadata": {
            "tags": []
          },
          "execution_count": 1
        }
      ]
    },
    {
      "cell_type": "markdown",
      "metadata": {
        "id": "XHC7OOdSWAp-"
      },
      "source": [
        "The _fetch_financial_data()_ function fetches data on listed companies. It will be used in the following exercises. To download data of a specific company, you must provide the ticker (symbol) of the company.\n",
        "\n",
        "Some sample company tickers:\n",
        "* AMZN - Amazon\n",
        "* GOOGL - Google\n",
        "* MSFT - Microsoft\n",
        "* AAPL - Apple\n",
        "* NKE - Nike\n",
        "* WMT - Walmart"
      ]
    },
    {
      "cell_type": "code",
      "metadata": {
        "id": "Cco5py75WIi3"
      },
      "source": [
        "def fetch_financial_data(company='AMZN'):\n",
        "    \"\"\"\n",
        "    This function fetches stock market quotations.\n",
        "    \"\"\"\n",
        "    import pandas_datareader.data as web\n",
        "    return web.DataReader(name=company, data_source='stooq')"
      ],
      "execution_count": null,
      "outputs": []
    },
    {
      "cell_type": "markdown",
      "metadata": {
        "id": "cyc70pMe1oCg"
      },
      "source": [
        "### <a name='1'></a> Exercise 121\n",
        "Using the _fetch_financial_data()_ function, download Google (Alphabet) quotes and assign to the variable _google_. Display object _google_."
      ]
    },
    {
      "cell_type": "code",
      "metadata": {
        "id": "-X_EmE0yWZJy",
        "colab": {
          "base_uri": "https://localhost:8080/",
          "height": 436
        },
        "outputId": "467d55b7-13c6-462b-dec4-3db853ae8e1f"
      },
      "source": [
        "google = fetch_financial_data('GOOGL')\n",
        "google"
      ],
      "execution_count": null,
      "outputs": [
        {
          "output_type": "execute_result",
          "data": {
            "text/html": [
              "<div>\n",
              "<style scoped>\n",
              "    .dataframe tbody tr th:only-of-type {\n",
              "        vertical-align: middle;\n",
              "    }\n",
              "\n",
              "    .dataframe tbody tr th {\n",
              "        vertical-align: top;\n",
              "    }\n",
              "\n",
              "    .dataframe thead th {\n",
              "        text-align: right;\n",
              "    }\n",
              "</style>\n",
              "<table border=\"1\" class=\"dataframe\">\n",
              "  <thead>\n",
              "    <tr style=\"text-align: right;\">\n",
              "      <th></th>\n",
              "      <th>Open</th>\n",
              "      <th>High</th>\n",
              "      <th>Low</th>\n",
              "      <th>Close</th>\n",
              "      <th>Volume</th>\n",
              "    </tr>\n",
              "    <tr>\n",
              "      <th>Date</th>\n",
              "      <th></th>\n",
              "      <th></th>\n",
              "      <th></th>\n",
              "      <th></th>\n",
              "      <th></th>\n",
              "    </tr>\n",
              "  </thead>\n",
              "  <tbody>\n",
              "    <tr>\n",
              "      <th>2020-05-15</th>\n",
              "      <td>1348.26</td>\n",
              "      <td>1374.58</td>\n",
              "      <td>1339.00</td>\n",
              "      <td>1373.06</td>\n",
              "      <td>2077199</td>\n",
              "    </tr>\n",
              "    <tr>\n",
              "      <th>2020-05-14</th>\n",
              "      <td>1333.52</td>\n",
              "      <td>1357.37</td>\n",
              "      <td>1323.30</td>\n",
              "      <td>1356.86</td>\n",
              "      <td>1833017</td>\n",
              "    </tr>\n",
              "    <tr>\n",
              "      <th>2020-05-13</th>\n",
              "      <td>1376.16</td>\n",
              "      <td>1385.33</td>\n",
              "      <td>1328.01</td>\n",
              "      <td>1348.33</td>\n",
              "      <td>2018404</td>\n",
              "    </tr>\n",
              "    <tr>\n",
              "      <th>2020-05-12</th>\n",
              "      <td>1408.22</td>\n",
              "      <td>1414.33</td>\n",
              "      <td>1374.51</td>\n",
              "      <td>1375.18</td>\n",
              "      <td>1695874</td>\n",
              "    </tr>\n",
              "    <tr>\n",
              "      <th>2020-05-11</th>\n",
              "      <td>1376.79</td>\n",
              "      <td>1415.53</td>\n",
              "      <td>1375.50</td>\n",
              "      <td>1403.59</td>\n",
              "      <td>1635856</td>\n",
              "    </tr>\n",
              "    <tr>\n",
              "      <th>...</th>\n",
              "      <td>...</td>\n",
              "      <td>...</td>\n",
              "      <td>...</td>\n",
              "      <td>...</td>\n",
              "      <td>...</td>\n",
              "    </tr>\n",
              "    <tr>\n",
              "      <th>2015-05-27</th>\n",
              "      <td>548.68</td>\n",
              "      <td>555.29</td>\n",
              "      <td>546.58</td>\n",
              "      <td>554.25</td>\n",
              "      <td>1742200</td>\n",
              "    </tr>\n",
              "    <tr>\n",
              "      <th>2015-05-26</th>\n",
              "      <td>552.58</td>\n",
              "      <td>553.33</td>\n",
              "      <td>542.97</td>\n",
              "      <td>547.19</td>\n",
              "      <td>1866724</td>\n",
              "    </tr>\n",
              "    <tr>\n",
              "      <th>2015-05-22</th>\n",
              "      <td>554.46</td>\n",
              "      <td>558.24</td>\n",
              "      <td>553.62</td>\n",
              "      <td>554.52</td>\n",
              "      <td>1213200</td>\n",
              "    </tr>\n",
              "    <tr>\n",
              "      <th>2015-05-21</th>\n",
              "      <td>550.37</td>\n",
              "      <td>557.61</td>\n",
              "      <td>549.30</td>\n",
              "      <td>556.81</td>\n",
              "      <td>1708500</td>\n",
              "    </tr>\n",
              "    <tr>\n",
              "      <th>2015-05-20</th>\n",
              "      <td>550.92</td>\n",
              "      <td>556.07</td>\n",
              "      <td>545.10</td>\n",
              "      <td>552.51</td>\n",
              "      <td>1541962</td>\n",
              "    </tr>\n",
              "  </tbody>\n",
              "</table>\n",
              "<p>1257 rows × 5 columns</p>\n",
              "</div>"
            ],
            "text/plain": [
              "               Open     High      Low    Close   Volume\n",
              "Date                                                   \n",
              "2020-05-15  1348.26  1374.58  1339.00  1373.06  2077199\n",
              "2020-05-14  1333.52  1357.37  1323.30  1356.86  1833017\n",
              "2020-05-13  1376.16  1385.33  1328.01  1348.33  2018404\n",
              "2020-05-12  1408.22  1414.33  1374.51  1375.18  1695874\n",
              "2020-05-11  1376.79  1415.53  1375.50  1403.59  1635856\n",
              "...             ...      ...      ...      ...      ...\n",
              "2015-05-27   548.68   555.29   546.58   554.25  1742200\n",
              "2015-05-26   552.58   553.33   542.97   547.19  1866724\n",
              "2015-05-22   554.46   558.24   553.62   554.52  1213200\n",
              "2015-05-21   550.37   557.61   549.30   556.81  1708500\n",
              "2015-05-20   550.92   556.07   545.10   552.51  1541962\n",
              "\n",
              "[1257 rows x 5 columns]"
            ]
          },
          "metadata": {
            "tags": []
          },
          "execution_count": 3
        }
      ]
    },
    {
      "cell_type": "markdown",
      "metadata": {
        "id": "J9pY1rtr1sC0"
      },
      "source": [
        "### <a name='2'></a> Exercise 122\n",
        "Display basic information about _google_ object."
      ]
    },
    {
      "cell_type": "code",
      "metadata": {
        "id": "jYe-jwFgWhRj",
        "colab": {
          "base_uri": "https://localhost:8080/",
          "height": 216
        },
        "outputId": "c33f4104-d0b6-41a2-b57a-d14288e8ba24"
      },
      "source": [
        "google.info()"
      ],
      "execution_count": null,
      "outputs": [
        {
          "output_type": "stream",
          "text": [
            "<class 'pandas.core.frame.DataFrame'>\n",
            "DatetimeIndex: 1257 entries, 2020-05-15 to 2015-05-20\n",
            "Data columns (total 5 columns):\n",
            " #   Column  Non-Null Count  Dtype  \n",
            "---  ------  --------------  -----  \n",
            " 0   Open    1257 non-null   float64\n",
            " 1   High    1257 non-null   float64\n",
            " 2   Low     1257 non-null   float64\n",
            " 3   Close   1257 non-null   float64\n",
            " 4   Volume  1257 non-null   int64  \n",
            "dtypes: float64(4), int64(1)\n",
            "memory usage: 58.9 KB\n"
          ],
          "name": "stdout"
        }
      ]
    },
    {
      "cell_type": "markdown",
      "metadata": {
        "id": "qXa0-U9nWkUy"
      },
      "source": [
        "Display basic statistics for _google_."
      ]
    },
    {
      "cell_type": "code",
      "metadata": {
        "id": "wOPx2ufcWnMl",
        "colab": {
          "base_uri": "https://localhost:8080/",
          "height": 287
        },
        "outputId": "708e68be-1ac7-47c8-c141-e4b92604eae0"
      },
      "source": [
        "google.describe()"
      ],
      "execution_count": null,
      "outputs": [
        {
          "output_type": "execute_result",
          "data": {
            "text/html": [
              "<div>\n",
              "<style scoped>\n",
              "    .dataframe tbody tr th:only-of-type {\n",
              "        vertical-align: middle;\n",
              "    }\n",
              "\n",
              "    .dataframe tbody tr th {\n",
              "        vertical-align: top;\n",
              "    }\n",
              "\n",
              "    .dataframe thead th {\n",
              "        text-align: right;\n",
              "    }\n",
              "</style>\n",
              "<table border=\"1\" class=\"dataframe\">\n",
              "  <thead>\n",
              "    <tr style=\"text-align: right;\">\n",
              "      <th></th>\n",
              "      <th>Open</th>\n",
              "      <th>High</th>\n",
              "      <th>Low</th>\n",
              "      <th>Close</th>\n",
              "      <th>Volume</th>\n",
              "    </tr>\n",
              "  </thead>\n",
              "  <tbody>\n",
              "    <tr>\n",
              "      <th>count</th>\n",
              "      <td>1257.000000</td>\n",
              "      <td>1257.000000</td>\n",
              "      <td>1257.000000</td>\n",
              "      <td>1257.000000</td>\n",
              "      <td>1.257000e+03</td>\n",
              "    </tr>\n",
              "    <tr>\n",
              "      <th>mean</th>\n",
              "      <td>985.795146</td>\n",
              "      <td>994.724084</td>\n",
              "      <td>976.482779</td>\n",
              "      <td>985.996920</td>\n",
              "      <td>1.801721e+06</td>\n",
              "    </tr>\n",
              "    <tr>\n",
              "      <th>std</th>\n",
              "      <td>222.890229</td>\n",
              "      <td>225.424089</td>\n",
              "      <td>220.680834</td>\n",
              "      <td>223.260574</td>\n",
              "      <td>9.549839e+05</td>\n",
              "    </tr>\n",
              "    <tr>\n",
              "      <th>min</th>\n",
              "      <td>542.250000</td>\n",
              "      <td>544.050000</td>\n",
              "      <td>538.850000</td>\n",
              "      <td>540.040000</td>\n",
              "      <td>5.211410e+05</td>\n",
              "    </tr>\n",
              "    <tr>\n",
              "      <th>25%</th>\n",
              "      <td>787.170000</td>\n",
              "      <td>792.000000</td>\n",
              "      <td>778.190000</td>\n",
              "      <td>785.410000</td>\n",
              "      <td>1.222203e+06</td>\n",
              "    </tr>\n",
              "    <tr>\n",
              "      <th>50%</th>\n",
              "      <td>1020.010000</td>\n",
              "      <td>1037.670000</td>\n",
              "      <td>1006.250000</td>\n",
              "      <td>1022.640000</td>\n",
              "      <td>1.556298e+06</td>\n",
              "    </tr>\n",
              "    <tr>\n",
              "      <th>75%</th>\n",
              "      <td>1155.620000</td>\n",
              "      <td>1174.070000</td>\n",
              "      <td>1146.730000</td>\n",
              "      <td>1161.950000</td>\n",
              "      <td>2.069127e+06</td>\n",
              "    </tr>\n",
              "    <tr>\n",
              "      <th>max</th>\n",
              "      <td>1527.200000</td>\n",
              "      <td>1530.740000</td>\n",
              "      <td>1520.980000</td>\n",
              "      <td>1524.870000</td>\n",
              "      <td>1.285810e+07</td>\n",
              "    </tr>\n",
              "  </tbody>\n",
              "</table>\n",
              "</div>"
            ],
            "text/plain": [
              "              Open         High          Low        Close        Volume\n",
              "count  1257.000000  1257.000000  1257.000000  1257.000000  1.257000e+03\n",
              "mean    985.795146   994.724084   976.482779   985.996920  1.801721e+06\n",
              "std     222.890229   225.424089   220.680834   223.260574  9.549839e+05\n",
              "min     542.250000   544.050000   538.850000   540.040000  5.211410e+05\n",
              "25%     787.170000   792.000000   778.190000   785.410000  1.222203e+06\n",
              "50%    1020.010000  1037.670000  1006.250000  1022.640000  1.556298e+06\n",
              "75%    1155.620000  1174.070000  1146.730000  1161.950000  2.069127e+06\n",
              "max    1527.200000  1530.740000  1520.980000  1524.870000  1.285810e+07"
            ]
          },
          "metadata": {
            "tags": []
          },
          "execution_count": 5
        }
      ]
    },
    {
      "cell_type": "markdown",
      "metadata": {
        "id": "eYd_y8_TWro3"
      },
      "source": [
        "Note the precision of individual statistics.\n",
        "Try setting the appropriate _pandas_ library options to display data with two decimal places.\n",
        "\n",
        "__Tip:__ \n",
        "https://pandas.pydata.org/pandas-docs/stable/user_guide/options.html"
      ]
    },
    {
      "cell_type": "code",
      "metadata": {
        "id": "zHXcFbuEWyBC",
        "colab": {
          "base_uri": "https://localhost:8080/",
          "height": 287
        },
        "outputId": "a1e25ffd-5f8b-4ea8-f05f-8eb52808857c"
      },
      "source": [
        "pd.set_option('precision', 2)\n",
        "google.describe()"
      ],
      "execution_count": null,
      "outputs": [
        {
          "output_type": "execute_result",
          "data": {
            "text/html": [
              "<div>\n",
              "<style scoped>\n",
              "    .dataframe tbody tr th:only-of-type {\n",
              "        vertical-align: middle;\n",
              "    }\n",
              "\n",
              "    .dataframe tbody tr th {\n",
              "        vertical-align: top;\n",
              "    }\n",
              "\n",
              "    .dataframe thead th {\n",
              "        text-align: right;\n",
              "    }\n",
              "</style>\n",
              "<table border=\"1\" class=\"dataframe\">\n",
              "  <thead>\n",
              "    <tr style=\"text-align: right;\">\n",
              "      <th></th>\n",
              "      <th>Open</th>\n",
              "      <th>High</th>\n",
              "      <th>Low</th>\n",
              "      <th>Close</th>\n",
              "      <th>Volume</th>\n",
              "    </tr>\n",
              "  </thead>\n",
              "  <tbody>\n",
              "    <tr>\n",
              "      <th>count</th>\n",
              "      <td>1257.00</td>\n",
              "      <td>1257.00</td>\n",
              "      <td>1257.00</td>\n",
              "      <td>1257.00</td>\n",
              "      <td>1.26e+03</td>\n",
              "    </tr>\n",
              "    <tr>\n",
              "      <th>mean</th>\n",
              "      <td>985.80</td>\n",
              "      <td>994.72</td>\n",
              "      <td>976.48</td>\n",
              "      <td>986.00</td>\n",
              "      <td>1.80e+06</td>\n",
              "    </tr>\n",
              "    <tr>\n",
              "      <th>std</th>\n",
              "      <td>222.89</td>\n",
              "      <td>225.42</td>\n",
              "      <td>220.68</td>\n",
              "      <td>223.26</td>\n",
              "      <td>9.55e+05</td>\n",
              "    </tr>\n",
              "    <tr>\n",
              "      <th>min</th>\n",
              "      <td>542.25</td>\n",
              "      <td>544.05</td>\n",
              "      <td>538.85</td>\n",
              "      <td>540.04</td>\n",
              "      <td>5.21e+05</td>\n",
              "    </tr>\n",
              "    <tr>\n",
              "      <th>25%</th>\n",
              "      <td>787.17</td>\n",
              "      <td>792.00</td>\n",
              "      <td>778.19</td>\n",
              "      <td>785.41</td>\n",
              "      <td>1.22e+06</td>\n",
              "    </tr>\n",
              "    <tr>\n",
              "      <th>50%</th>\n",
              "      <td>1020.01</td>\n",
              "      <td>1037.67</td>\n",
              "      <td>1006.25</td>\n",
              "      <td>1022.64</td>\n",
              "      <td>1.56e+06</td>\n",
              "    </tr>\n",
              "    <tr>\n",
              "      <th>75%</th>\n",
              "      <td>1155.62</td>\n",
              "      <td>1174.07</td>\n",
              "      <td>1146.73</td>\n",
              "      <td>1161.95</td>\n",
              "      <td>2.07e+06</td>\n",
              "    </tr>\n",
              "    <tr>\n",
              "      <th>max</th>\n",
              "      <td>1527.20</td>\n",
              "      <td>1530.74</td>\n",
              "      <td>1520.98</td>\n",
              "      <td>1524.87</td>\n",
              "      <td>1.29e+07</td>\n",
              "    </tr>\n",
              "  </tbody>\n",
              "</table>\n",
              "</div>"
            ],
            "text/plain": [
              "          Open     High      Low    Close    Volume\n",
              "count  1257.00  1257.00  1257.00  1257.00  1.26e+03\n",
              "mean    985.80   994.72   976.48   986.00  1.80e+06\n",
              "std     222.89   225.42   220.68   223.26  9.55e+05\n",
              "min     542.25   544.05   538.85   540.04  5.21e+05\n",
              "25%     787.17   792.00   778.19   785.41  1.22e+06\n",
              "50%    1020.01  1037.67  1006.25  1022.64  1.56e+06\n",
              "75%    1155.62  1174.07  1146.73  1161.95  2.07e+06\n",
              "max    1527.20  1530.74  1520.98  1524.87  1.29e+07"
            ]
          },
          "metadata": {
            "tags": []
          },
          "execution_count": 6
        }
      ]
    },
    {
      "cell_type": "markdown",
      "metadata": {
        "id": "_PTZL5EXW0Fk"
      },
      "source": [
        "__Additionally:__\n",
        "The following setting will also suppress mathematical notation (see column _Volume_)."
      ]
    },
    {
      "cell_type": "code",
      "metadata": {
        "id": "mKi0XqaWW3zC",
        "colab": {
          "base_uri": "https://localhost:8080/",
          "height": 287
        },
        "outputId": "e87414f4-419c-4adc-9f4a-c6409be5b389"
      },
      "source": [
        "pd.options.display.float_format = '{:.2f}'.format\n",
        "google.describe()"
      ],
      "execution_count": null,
      "outputs": [
        {
          "output_type": "execute_result",
          "data": {
            "text/html": [
              "<div>\n",
              "<style scoped>\n",
              "    .dataframe tbody tr th:only-of-type {\n",
              "        vertical-align: middle;\n",
              "    }\n",
              "\n",
              "    .dataframe tbody tr th {\n",
              "        vertical-align: top;\n",
              "    }\n",
              "\n",
              "    .dataframe thead th {\n",
              "        text-align: right;\n",
              "    }\n",
              "</style>\n",
              "<table border=\"1\" class=\"dataframe\">\n",
              "  <thead>\n",
              "    <tr style=\"text-align: right;\">\n",
              "      <th></th>\n",
              "      <th>Open</th>\n",
              "      <th>High</th>\n",
              "      <th>Low</th>\n",
              "      <th>Close</th>\n",
              "      <th>Volume</th>\n",
              "    </tr>\n",
              "  </thead>\n",
              "  <tbody>\n",
              "    <tr>\n",
              "      <th>count</th>\n",
              "      <td>1257.00</td>\n",
              "      <td>1257.00</td>\n",
              "      <td>1257.00</td>\n",
              "      <td>1257.00</td>\n",
              "      <td>1257.00</td>\n",
              "    </tr>\n",
              "    <tr>\n",
              "      <th>mean</th>\n",
              "      <td>985.80</td>\n",
              "      <td>994.72</td>\n",
              "      <td>976.48</td>\n",
              "      <td>986.00</td>\n",
              "      <td>1801720.72</td>\n",
              "    </tr>\n",
              "    <tr>\n",
              "      <th>std</th>\n",
              "      <td>222.89</td>\n",
              "      <td>225.42</td>\n",
              "      <td>220.68</td>\n",
              "      <td>223.26</td>\n",
              "      <td>954983.92</td>\n",
              "    </tr>\n",
              "    <tr>\n",
              "      <th>min</th>\n",
              "      <td>542.25</td>\n",
              "      <td>544.05</td>\n",
              "      <td>538.85</td>\n",
              "      <td>540.04</td>\n",
              "      <td>521141.00</td>\n",
              "    </tr>\n",
              "    <tr>\n",
              "      <th>25%</th>\n",
              "      <td>787.17</td>\n",
              "      <td>792.00</td>\n",
              "      <td>778.19</td>\n",
              "      <td>785.41</td>\n",
              "      <td>1222203.00</td>\n",
              "    </tr>\n",
              "    <tr>\n",
              "      <th>50%</th>\n",
              "      <td>1020.01</td>\n",
              "      <td>1037.67</td>\n",
              "      <td>1006.25</td>\n",
              "      <td>1022.64</td>\n",
              "      <td>1556298.00</td>\n",
              "    </tr>\n",
              "    <tr>\n",
              "      <th>75%</th>\n",
              "      <td>1155.62</td>\n",
              "      <td>1174.07</td>\n",
              "      <td>1146.73</td>\n",
              "      <td>1161.95</td>\n",
              "      <td>2069127.00</td>\n",
              "    </tr>\n",
              "    <tr>\n",
              "      <th>max</th>\n",
              "      <td>1527.20</td>\n",
              "      <td>1530.74</td>\n",
              "      <td>1520.98</td>\n",
              "      <td>1524.87</td>\n",
              "      <td>12858100.00</td>\n",
              "    </tr>\n",
              "  </tbody>\n",
              "</table>\n",
              "</div>"
            ],
            "text/plain": [
              "         Open    High     Low   Close      Volume\n",
              "count 1257.00 1257.00 1257.00 1257.00     1257.00\n",
              "mean   985.80  994.72  976.48  986.00  1801720.72\n",
              "std    222.89  225.42  220.68  223.26   954983.92\n",
              "min    542.25  544.05  538.85  540.04   521141.00\n",
              "25%    787.17  792.00  778.19  785.41  1222203.00\n",
              "50%   1020.01 1037.67 1006.25 1022.64  1556298.00\n",
              "75%   1155.62 1174.07 1146.73 1161.95  2069127.00\n",
              "max   1527.20 1530.74 1520.98 1524.87 12858100.00"
            ]
          },
          "metadata": {
            "tags": []
          },
          "execution_count": 7
        }
      ]
    },
    {
      "cell_type": "markdown",
      "metadata": {
        "id": "wVGd55NMW6ZU"
      },
      "source": [
        "Build a simple chart for _google_ closing price (_Close_)"
      ]
    },
    {
      "cell_type": "code",
      "metadata": {
        "id": "6z75UldWXDOr",
        "colab": {
          "base_uri": "https://localhost:8080/",
          "height": 292
        },
        "outputId": "53dcc01e-196e-4069-8ae2-858979c7c007"
      },
      "source": [
        "google['Close'].plot()"
      ],
      "execution_count": null,
      "outputs": [
        {
          "output_type": "execute_result",
          "data": {
            "text/plain": [
              "<matplotlib.axes._subplots.AxesSubplot at 0x7f5307916a20>"
            ]
          },
          "metadata": {
            "tags": []
          },
          "execution_count": 8
        },
        {
          "output_type": "display_data",
          "data": {
            "image/png": "[encoded data removed]",
            "text/plain": [
              "<Figure size 432x288 with 1 Axes>"
            ]
          },
          "metadata": {
            "tags": [],
            "needs_background": "light"
          }
        }
      ]
    },
    {
      "cell_type": "markdown",
      "metadata": {
        "id": "XQLYT2m11wVG"
      },
      "source": [
        "### <a name='3'></a> Exercise 123\n",
        "Replace the _Date_ index with a column. Permanently assign changes to the _google_."
      ]
    },
    {
      "cell_type": "code",
      "metadata": {
        "id": "tnmHL0sxXPLK",
        "colab": {
          "base_uri": "https://localhost:8080/",
          "height": 406
        },
        "outputId": "e2f8580f-4128-4842-96b1-f2f056d24de9"
      },
      "source": [
        "google = google.reset_index()\n",
        "google"
      ],
      "execution_count": null,
      "outputs": [
        {
          "output_type": "execute_result",
          "data": {
            "text/html": [
              "<div>\n",
              "<style scoped>\n",
              "    .dataframe tbody tr th:only-of-type {\n",
              "        vertical-align: middle;\n",
              "    }\n",
              "\n",
              "    .dataframe tbody tr th {\n",
              "        vertical-align: top;\n",
              "    }\n",
              "\n",
              "    .dataframe thead th {\n",
              "        text-align: right;\n",
              "    }\n",
              "</style>\n",
              "<table border=\"1\" class=\"dataframe\">\n",
              "  <thead>\n",
              "    <tr style=\"text-align: right;\">\n",
              "      <th></th>\n",
              "      <th>Date</th>\n",
              "      <th>Open</th>\n",
              "      <th>High</th>\n",
              "      <th>Low</th>\n",
              "      <th>Close</th>\n",
              "      <th>Volume</th>\n",
              "    </tr>\n",
              "  </thead>\n",
              "  <tbody>\n",
              "    <tr>\n",
              "      <th>0</th>\n",
              "      <td>2020-05-15</td>\n",
              "      <td>1348.26</td>\n",
              "      <td>1374.58</td>\n",
              "      <td>1339.00</td>\n",
              "      <td>1373.06</td>\n",
              "      <td>2077199</td>\n",
              "    </tr>\n",
              "    <tr>\n",
              "      <th>1</th>\n",
              "      <td>2020-05-14</td>\n",
              "      <td>1333.52</td>\n",
              "      <td>1357.37</td>\n",
              "      <td>1323.30</td>\n",
              "      <td>1356.86</td>\n",
              "      <td>1833017</td>\n",
              "    </tr>\n",
              "    <tr>\n",
              "      <th>2</th>\n",
              "      <td>2020-05-13</td>\n",
              "      <td>1376.16</td>\n",
              "      <td>1385.33</td>\n",
              "      <td>1328.01</td>\n",
              "      <td>1348.33</td>\n",
              "      <td>2018404</td>\n",
              "    </tr>\n",
              "    <tr>\n",
              "      <th>3</th>\n",
              "      <td>2020-05-12</td>\n",
              "      <td>1408.22</td>\n",
              "      <td>1414.33</td>\n",
              "      <td>1374.51</td>\n",
              "      <td>1375.18</td>\n",
              "      <td>1695874</td>\n",
              "    </tr>\n",
              "    <tr>\n",
              "      <th>4</th>\n",
              "      <td>2020-05-11</td>\n",
              "      <td>1376.79</td>\n",
              "      <td>1415.53</td>\n",
              "      <td>1375.50</td>\n",
              "      <td>1403.59</td>\n",
              "      <td>1635856</td>\n",
              "    </tr>\n",
              "    <tr>\n",
              "      <th>...</th>\n",
              "      <td>...</td>\n",
              "      <td>...</td>\n",
              "      <td>...</td>\n",
              "      <td>...</td>\n",
              "      <td>...</td>\n",
              "      <td>...</td>\n",
              "    </tr>\n",
              "    <tr>\n",
              "      <th>1252</th>\n",
              "      <td>2015-05-27</td>\n",
              "      <td>548.68</td>\n",
              "      <td>555.29</td>\n",
              "      <td>546.58</td>\n",
              "      <td>554.25</td>\n",
              "      <td>1742200</td>\n",
              "    </tr>\n",
              "    <tr>\n",
              "      <th>1253</th>\n",
              "      <td>2015-05-26</td>\n",
              "      <td>552.58</td>\n",
              "      <td>553.33</td>\n",
              "      <td>542.97</td>\n",
              "      <td>547.19</td>\n",
              "      <td>1866724</td>\n",
              "    </tr>\n",
              "    <tr>\n",
              "      <th>1254</th>\n",
              "      <td>2015-05-22</td>\n",
              "      <td>554.46</td>\n",
              "      <td>558.24</td>\n",
              "      <td>553.62</td>\n",
              "      <td>554.52</td>\n",
              "      <td>1213200</td>\n",
              "    </tr>\n",
              "    <tr>\n",
              "      <th>1255</th>\n",
              "      <td>2015-05-21</td>\n",
              "      <td>550.37</td>\n",
              "      <td>557.61</td>\n",
              "      <td>549.30</td>\n",
              "      <td>556.81</td>\n",
              "      <td>1708500</td>\n",
              "    </tr>\n",
              "    <tr>\n",
              "      <th>1256</th>\n",
              "      <td>2015-05-20</td>\n",
              "      <td>550.92</td>\n",
              "      <td>556.07</td>\n",
              "      <td>545.10</td>\n",
              "      <td>552.51</td>\n",
              "      <td>1541962</td>\n",
              "    </tr>\n",
              "  </tbody>\n",
              "</table>\n",
              "<p>1257 rows × 6 columns</p>\n",
              "</div>"
            ],
            "text/plain": [
              "           Date    Open    High     Low   Close   Volume\n",
              "0    2020-05-15 1348.26 1374.58 1339.00 1373.06  2077199\n",
              "1    2020-05-14 1333.52 1357.37 1323.30 1356.86  1833017\n",
              "2    2020-05-13 1376.16 1385.33 1328.01 1348.33  2018404\n",
              "3    2020-05-12 1408.22 1414.33 1374.51 1375.18  1695874\n",
              "4    2020-05-11 1376.79 1415.53 1375.50 1403.59  1635856\n",
              "...         ...     ...     ...     ...     ...      ...\n",
              "1252 2015-05-27  548.68  555.29  546.58  554.25  1742200\n",
              "1253 2015-05-26  552.58  553.33  542.97  547.19  1866724\n",
              "1254 2015-05-22  554.46  558.24  553.62  554.52  1213200\n",
              "1255 2015-05-21  550.37  557.61  549.30  556.81  1708500\n",
              "1256 2015-05-20  550.92  556.07  545.10  552.51  1541962\n",
              "\n",
              "[1257 rows x 6 columns]"
            ]
          },
          "metadata": {
            "tags": []
          },
          "execution_count": 9
        }
      ]
    },
    {
      "cell_type": "markdown",
      "metadata": {
        "id": "UM5yUTmzXR5G"
      },
      "source": [
        "Assign two new columns to the _google_ object by adding a column with the current month number named _'Month'_ and the year named _'Year'_."
      ]
    },
    {
      "cell_type": "code",
      "metadata": {
        "id": "TuqLYi3bXUkv",
        "colab": {
          "base_uri": "https://localhost:8080/",
          "height": 406
        },
        "outputId": "3ba2d013-6b06-4d4e-a297-f729380abe70"
      },
      "source": [
        "google['Year'] = google['Date'].dt.year\n",
        "google['Month'] = google['Date'].dt.month\n",
        "google"
      ],
      "execution_count": null,
      "outputs": [
        {
          "output_type": "execute_result",
          "data": {
            "text/html": [
              "<div>\n",
              "<style scoped>\n",
              "    .dataframe tbody tr th:only-of-type {\n",
              "        vertical-align: middle;\n",
              "    }\n",
              "\n",
              "    .dataframe tbody tr th {\n",
              "        vertical-align: top;\n",
              "    }\n",
              "\n",
              "    .dataframe thead th {\n",
              "        text-align: right;\n",
              "    }\n",
              "</style>\n",
              "<table border=\"1\" class=\"dataframe\">\n",
              "  <thead>\n",
              "    <tr style=\"text-align: right;\">\n",
              "      <th></th>\n",
              "      <th>Date</th>\n",
              "      <th>Open</th>\n",
              "      <th>High</th>\n",
              "      <th>Low</th>\n",
              "      <th>Close</th>\n",
              "      <th>Volume</th>\n",
              "      <th>Year</th>\n",
              "      <th>Month</th>\n",
              "    </tr>\n",
              "  </thead>\n",
              "  <tbody>\n",
              "    <tr>\n",
              "      <th>0</th>\n",
              "      <td>2020-05-15</td>\n",
              "      <td>1348.26</td>\n",
              "      <td>1374.58</td>\n",
              "      <td>1339.00</td>\n",
              "      <td>1373.06</td>\n",
              "      <td>2077199</td>\n",
              "      <td>2020</td>\n",
              "      <td>5</td>\n",
              "    </tr>\n",
              "    <tr>\n",
              "      <th>1</th>\n",
              "      <td>2020-05-14</td>\n",
              "      <td>1333.52</td>\n",
              "      <td>1357.37</td>\n",
              "      <td>1323.30</td>\n",
              "      <td>1356.86</td>\n",
              "      <td>1833017</td>\n",
              "      <td>2020</td>\n",
              "      <td>5</td>\n",
              "    </tr>\n",
              "    <tr>\n",
              "      <th>2</th>\n",
              "      <td>2020-05-13</td>\n",
              "      <td>1376.16</td>\n",
              "      <td>1385.33</td>\n",
              "      <td>1328.01</td>\n",
              "      <td>1348.33</td>\n",
              "      <td>2018404</td>\n",
              "      <td>2020</td>\n",
              "      <td>5</td>\n",
              "    </tr>\n",
              "    <tr>\n",
              "      <th>3</th>\n",
              "      <td>2020-05-12</td>\n",
              "      <td>1408.22</td>\n",
              "      <td>1414.33</td>\n",
              "      <td>1374.51</td>\n",
              "      <td>1375.18</td>\n",
              "      <td>1695874</td>\n",
              "      <td>2020</td>\n",
              "      <td>5</td>\n",
              "    </tr>\n",
              "    <tr>\n",
              "      <th>4</th>\n",
              "      <td>2020-05-11</td>\n",
              "      <td>1376.79</td>\n",
              "      <td>1415.53</td>\n",
              "      <td>1375.50</td>\n",
              "      <td>1403.59</td>\n",
              "      <td>1635856</td>\n",
              "      <td>2020</td>\n",
              "      <td>5</td>\n",
              "    </tr>\n",
              "    <tr>\n",
              "      <th>...</th>\n",
              "      <td>...</td>\n",
              "      <td>...</td>\n",
              "      <td>...</td>\n",
              "      <td>...</td>\n",
              "      <td>...</td>\n",
              "      <td>...</td>\n",
              "      <td>...</td>\n",
              "      <td>...</td>\n",
              "    </tr>\n",
              "    <tr>\n",
              "      <th>1252</th>\n",
              "      <td>2015-05-27</td>\n",
              "      <td>548.68</td>\n",
              "      <td>555.29</td>\n",
              "      <td>546.58</td>\n",
              "      <td>554.25</td>\n",
              "      <td>1742200</td>\n",
              "      <td>2015</td>\n",
              "      <td>5</td>\n",
              "    </tr>\n",
              "    <tr>\n",
              "      <th>1253</th>\n",
              "      <td>2015-05-26</td>\n",
              "      <td>552.58</td>\n",
              "      <td>553.33</td>\n",
              "      <td>542.97</td>\n",
              "      <td>547.19</td>\n",
              "      <td>1866724</td>\n",
              "      <td>2015</td>\n",
              "      <td>5</td>\n",
              "    </tr>\n",
              "    <tr>\n",
              "      <th>1254</th>\n",
              "      <td>2015-05-22</td>\n",
              "      <td>554.46</td>\n",
              "      <td>558.24</td>\n",
              "      <td>553.62</td>\n",
              "      <td>554.52</td>\n",
              "      <td>1213200</td>\n",
              "      <td>2015</td>\n",
              "      <td>5</td>\n",
              "    </tr>\n",
              "    <tr>\n",
              "      <th>1255</th>\n",
              "      <td>2015-05-21</td>\n",
              "      <td>550.37</td>\n",
              "      <td>557.61</td>\n",
              "      <td>549.30</td>\n",
              "      <td>556.81</td>\n",
              "      <td>1708500</td>\n",
              "      <td>2015</td>\n",
              "      <td>5</td>\n",
              "    </tr>\n",
              "    <tr>\n",
              "      <th>1256</th>\n",
              "      <td>2015-05-20</td>\n",
              "      <td>550.92</td>\n",
              "      <td>556.07</td>\n",
              "      <td>545.10</td>\n",
              "      <td>552.51</td>\n",
              "      <td>1541962</td>\n",
              "      <td>2015</td>\n",
              "      <td>5</td>\n",
              "    </tr>\n",
              "  </tbody>\n",
              "</table>\n",
              "<p>1257 rows × 8 columns</p>\n",
              "</div>"
            ],
            "text/plain": [
              "           Date    Open    High     Low   Close   Volume  Year  Month\n",
              "0    2020-05-15 1348.26 1374.58 1339.00 1373.06  2077199  2020      5\n",
              "1    2020-05-14 1333.52 1357.37 1323.30 1356.86  1833017  2020      5\n",
              "2    2020-05-13 1376.16 1385.33 1328.01 1348.33  2018404  2020      5\n",
              "3    2020-05-12 1408.22 1414.33 1374.51 1375.18  1695874  2020      5\n",
              "4    2020-05-11 1376.79 1415.53 1375.50 1403.59  1635856  2020      5\n",
              "...         ...     ...     ...     ...     ...      ...   ...    ...\n",
              "1252 2015-05-27  548.68  555.29  546.58  554.25  1742200  2015      5\n",
              "1253 2015-05-26  552.58  553.33  542.97  547.19  1866724  2015      5\n",
              "1254 2015-05-22  554.46  558.24  553.62  554.52  1213200  2015      5\n",
              "1255 2015-05-21  550.37  557.61  549.30  556.81  1708500  2015      5\n",
              "1256 2015-05-20  550.92  556.07  545.10  552.51  1541962  2015      5\n",
              "\n",
              "[1257 rows x 8 columns]"
            ]
          },
          "metadata": {
            "tags": []
          },
          "execution_count": 10
        }
      ]
    },
    {
      "cell_type": "markdown",
      "metadata": {
        "id": "4xTKSUzg10MK"
      },
      "source": [
        "### <a name='4'></a> Exercise 124\n",
        "Compute the average closing price (_Close_) for a particular year (group data by year - column _Year_ and then calculate the average value)."
      ]
    },
    {
      "cell_type": "code",
      "metadata": {
        "id": "8y72Mrl_XbVR",
        "colab": {
          "base_uri": "https://localhost:8080/",
          "height": 150
        },
        "outputId": "284cb531-4e3b-4225-eae4-43a08716d7f8"
      },
      "source": [
        "google.groupby('Year')['Close'].mean()"
      ],
      "execution_count": null,
      "outputs": [
        {
          "output_type": "execute_result",
          "data": {
            "text/plain": [
              "Year\n",
              "2015    665.99\n",
              "2016    763.21\n",
              "2017    939.77\n",
              "2018   1122.05\n",
              "2019   1191.22\n",
              "2020   1327.71\n",
              "Name: Close, dtype: float64"
            ]
          },
          "metadata": {
            "tags": []
          },
          "execution_count": 11
        }
      ]
    },
    {
      "cell_type": "markdown",
      "metadata": {
        "id": "WWUsF6Q_Xdqp"
      },
      "source": [
        "Present the obtained values on the graph using the _plot()_ method."
      ]
    },
    {
      "cell_type": "code",
      "metadata": {
        "id": "vhH4QI4rXf0F",
        "colab": {
          "base_uri": "https://localhost:8080/",
          "height": 301
        },
        "outputId": "cc0b20d5-c496-4a2f-bc07-21b859c159db"
      },
      "source": [
        "google.groupby('Year')['Close'].mean().plot()"
      ],
      "execution_count": null,
      "outputs": [
        {
          "output_type": "execute_result",
          "data": {
            "text/plain": [
              "<matplotlib.axes._subplots.AxesSubplot at 0x7f530785b710>"
            ]
          },
          "metadata": {
            "tags": []
          },
          "execution_count": 12
        },
        {
          "output_type": "display_data",
          "data": {
            "image/png": "[encoded data removed]",
            "text/plain": [
              "<Figure size 432x288 with 1 Axes>"
            ]
          },
          "metadata": {
            "tags": [],
            "needs_background": "light"
          }
        }
      ]
    },
    {
      "cell_type": "markdown",
      "metadata": {
        "id": "ZQdfGqr1Xong"
      },
      "source": [
        "Compute the average closing price (_Close_) for the month (group data by month - the _Month_ column and then count the average value)."
      ]
    },
    {
      "cell_type": "code",
      "metadata": {
        "id": "Rv9ObC1DXlIP",
        "colab": {
          "base_uri": "https://localhost:8080/",
          "height": 250
        },
        "outputId": "81cc5f7b-019c-4b60-8776-3cee50ef74ba"
      },
      "source": [
        "google.groupby('Month')['Close'].mean()"
      ],
      "execution_count": null,
      "outputs": [
        {
          "output_type": "execute_result",
          "data": {
            "text/plain": [
              "Month\n",
              "1    1052.83\n",
              "2    1044.11\n",
              "3    1008.99\n",
              "4    1027.07\n",
              "5     993.24\n",
              "6     889.34\n",
              "7     935.87\n",
              "8     969.14\n",
              "9     953.44\n",
              "10    976.73\n",
              "11    991.32\n",
              "12    999.30\n",
              "Name: Close, dtype: float64"
            ]
          },
          "metadata": {
            "tags": []
          },
          "execution_count": 13
        }
      ]
    },
    {
      "cell_type": "markdown",
      "metadata": {
        "id": "xZK19EeaXtzH"
      },
      "source": [
        "Present the obtained values on the graph using the _plot()_ method.\n",
        "Note which months may indicate weaker periods on the stock market."
      ]
    },
    {
      "cell_type": "code",
      "metadata": {
        "id": "si68U1IqXxz9",
        "colab": {
          "base_uri": "https://localhost:8080/",
          "height": 304
        },
        "outputId": "dc9ea393-8eba-44e5-dc43-75a6199ed92e"
      },
      "source": [
        "google.groupby('Month')['Close'].mean().plot()"
      ],
      "execution_count": null,
      "outputs": [
        {
          "output_type": "execute_result",
          "data": {
            "text/plain": [
              "<matplotlib.axes._subplots.AxesSubplot at 0x7f5307390d68>"
            ]
          },
          "metadata": {
            "tags": []
          },
          "execution_count": 14
        },
        {
          "output_type": "display_data",
          "data": {
            "image/png": "[encoded data removed]",
            "text/plain": [
              "<Figure size 432x288 with 1 Axes>"
            ]
          },
          "metadata": {
            "tags": [],
            "needs_background": "light"
          }
        }
      ]
    },
    {
      "cell_type": "markdown",
      "metadata": {
        "id": "o3HKIKlP15Ro"
      },
      "source": [
        "### <a name='5'></a> Exercise 125\n",
        "Group data from _google_ at year and month level. Then calculate the average value.\n"
      ]
    },
    {
      "cell_type": "code",
      "metadata": {
        "id": "Se7TZ3fIX5Z7",
        "colab": {
          "base_uri": "https://localhost:8080/",
          "height": 233
        },
        "outputId": "9dd46aa9-b640-49f1-a8c3-bde3d7e03def"
      },
      "source": [
        "google.groupby(['Year', 'Month'])['Close'].mean()"
      ],
      "execution_count": null,
      "outputs": [
        {
          "output_type": "execute_result",
          "data": {
            "text/plain": [
              "Year  Month\n",
              "2015  5        552.11\n",
              "      6        550.80\n",
              "      7        617.47\n",
              "      8        667.66\n",
              "      9        647.79\n",
              "                ...  \n",
              "2020  1       1436.17\n",
              "      2       1462.85\n",
              "      3       1185.14\n",
              "      4       1230.11\n",
              "      5       1358.66\n",
              "Name: Close, Length: 61, dtype: float64"
            ]
          },
          "metadata": {
            "tags": []
          },
          "execution_count": 15
        }
      ]
    },
    {
      "cell_type": "markdown",
      "metadata": {
        "id": "PunXd_Ey16so"
      },
      "source": [
        "### <a name='6'></a> Exercise 126\n",
        "Find the index for which the _Close_ column has the largest value.\n"
      ]
    },
    {
      "cell_type": "code",
      "metadata": {
        "id": "SHLzxmmNX9A6",
        "colab": {
          "base_uri": "https://localhost:8080/",
          "height": 33
        },
        "outputId": "63ad73a3-eb27-4155-a83d-e5353024feb6"
      },
      "source": [
        "google['Close'].argmax()"
      ],
      "execution_count": null,
      "outputs": [
        {
          "output_type": "execute_result",
          "data": {
            "text/plain": [
              "61"
            ]
          },
          "metadata": {
            "tags": []
          },
          "execution_count": 16
        }
      ]
    },
    {
      "cell_type": "markdown",
      "metadata": {
        "id": "Bmhj586UX_PT"
      },
      "source": [
        "Extract the row for this index from the google object as a DataFrame. Read the date."
      ]
    },
    {
      "cell_type": "code",
      "metadata": {
        "id": "oR_HAXE0YCB6",
        "colab": {
          "base_uri": "https://localhost:8080/",
          "height": 77
        },
        "outputId": "caa5ca1e-4daa-4a7c-96b6-6f9de3e7591a"
      },
      "source": [
        "google.iloc[[google['Close'].argmax()]]"
      ],
      "execution_count": null,
      "outputs": [
        {
          "output_type": "execute_result",
          "data": {
            "text/html": [
              "<div>\n",
              "<style scoped>\n",
              "    .dataframe tbody tr th:only-of-type {\n",
              "        vertical-align: middle;\n",
              "    }\n",
              "\n",
              "    .dataframe tbody tr th {\n",
              "        vertical-align: top;\n",
              "    }\n",
              "\n",
              "    .dataframe thead th {\n",
              "        text-align: right;\n",
              "    }\n",
              "</style>\n",
              "<table border=\"1\" class=\"dataframe\">\n",
              "  <thead>\n",
              "    <tr style=\"text-align: right;\">\n",
              "      <th></th>\n",
              "      <th>Date</th>\n",
              "      <th>Open</th>\n",
              "      <th>High</th>\n",
              "      <th>Low</th>\n",
              "      <th>Close</th>\n",
              "      <th>Volume</th>\n",
              "      <th>Year</th>\n",
              "      <th>Month</th>\n",
              "    </tr>\n",
              "  </thead>\n",
              "  <tbody>\n",
              "    <tr>\n",
              "      <th>61</th>\n",
              "      <td>2020-02-19</td>\n",
              "      <td>1527.20</td>\n",
              "      <td>1530.74</td>\n",
              "      <td>1520.98</td>\n",
              "      <td>1524.87</td>\n",
              "      <td>1137338</td>\n",
              "      <td>2020</td>\n",
              "      <td>2</td>\n",
              "    </tr>\n",
              "  </tbody>\n",
              "</table>\n",
              "</div>"
            ],
            "text/plain": [
              "         Date    Open    High     Low   Close   Volume  Year  Month\n",
              "61 2020-02-19 1527.20 1530.74 1520.98 1524.87  1137338  2020      2"
            ]
          },
          "metadata": {
            "tags": []
          },
          "execution_count": 17
        }
      ]
    },
    {
      "cell_type": "markdown",
      "metadata": {
        "id": "hOhqDRz618Tx"
      },
      "source": [
        "### <a name='7'></a> Exercise 127\n",
        "Extract the columns _Date_, _Open_, _Close_, _Volume_ from the _google_ object.\n",
        "Don't change the original _google_ object!"
      ]
    },
    {
      "cell_type": "code",
      "metadata": {
        "id": "rF0EWOQLYGeT",
        "colab": {
          "base_uri": "https://localhost:8080/",
          "height": 406
        },
        "outputId": "40d00d5f-e6b0-4aaf-d16c-8e99a5e939b3"
      },
      "source": [
        "google[['Date', 'Open', 'Close', 'Volume']]"
      ],
      "execution_count": null,
      "outputs": [
        {
          "output_type": "execute_result",
          "data": {
            "text/html": [
              "<div>\n",
              "<style scoped>\n",
              "    .dataframe tbody tr th:only-of-type {\n",
              "        vertical-align: middle;\n",
              "    }\n",
              "\n",
              "    .dataframe tbody tr th {\n",
              "        vertical-align: top;\n",
              "    }\n",
              "\n",
              "    .dataframe thead th {\n",
              "        text-align: right;\n",
              "    }\n",
              "</style>\n",
              "<table border=\"1\" class=\"dataframe\">\n",
              "  <thead>\n",
              "    <tr style=\"text-align: right;\">\n",
              "      <th></th>\n",
              "      <th>Date</th>\n",
              "      <th>Open</th>\n",
              "      <th>Close</th>\n",
              "      <th>Volume</th>\n",
              "    </tr>\n",
              "  </thead>\n",
              "  <tbody>\n",
              "    <tr>\n",
              "      <th>0</th>\n",
              "      <td>2020-05-15</td>\n",
              "      <td>1348.26</td>\n",
              "      <td>1373.06</td>\n",
              "      <td>2077199</td>\n",
              "    </tr>\n",
              "    <tr>\n",
              "      <th>1</th>\n",
              "      <td>2020-05-14</td>\n",
              "      <td>1333.52</td>\n",
              "      <td>1356.86</td>\n",
              "      <td>1833017</td>\n",
              "    </tr>\n",
              "    <tr>\n",
              "      <th>2</th>\n",
              "      <td>2020-05-13</td>\n",
              "      <td>1376.16</td>\n",
              "      <td>1348.33</td>\n",
              "      <td>2018404</td>\n",
              "    </tr>\n",
              "    <tr>\n",
              "      <th>3</th>\n",
              "      <td>2020-05-12</td>\n",
              "      <td>1408.22</td>\n",
              "      <td>1375.18</td>\n",
              "      <td>1695874</td>\n",
              "    </tr>\n",
              "    <tr>\n",
              "      <th>4</th>\n",
              "      <td>2020-05-11</td>\n",
              "      <td>1376.79</td>\n",
              "      <td>1403.59</td>\n",
              "      <td>1635856</td>\n",
              "    </tr>\n",
              "    <tr>\n",
              "      <th>...</th>\n",
              "      <td>...</td>\n",
              "      <td>...</td>\n",
              "      <td>...</td>\n",
              "      <td>...</td>\n",
              "    </tr>\n",
              "    <tr>\n",
              "      <th>1252</th>\n",
              "      <td>2015-05-27</td>\n",
              "      <td>548.68</td>\n",
              "      <td>554.25</td>\n",
              "      <td>1742200</td>\n",
              "    </tr>\n",
              "    <tr>\n",
              "      <th>1253</th>\n",
              "      <td>2015-05-26</td>\n",
              "      <td>552.58</td>\n",
              "      <td>547.19</td>\n",
              "      <td>1866724</td>\n",
              "    </tr>\n",
              "    <tr>\n",
              "      <th>1254</th>\n",
              "      <td>2015-05-22</td>\n",
              "      <td>554.46</td>\n",
              "      <td>554.52</td>\n",
              "      <td>1213200</td>\n",
              "    </tr>\n",
              "    <tr>\n",
              "      <th>1255</th>\n",
              "      <td>2015-05-21</td>\n",
              "      <td>550.37</td>\n",
              "      <td>556.81</td>\n",
              "      <td>1708500</td>\n",
              "    </tr>\n",
              "    <tr>\n",
              "      <th>1256</th>\n",
              "      <td>2015-05-20</td>\n",
              "      <td>550.92</td>\n",
              "      <td>552.51</td>\n",
              "      <td>1541962</td>\n",
              "    </tr>\n",
              "  </tbody>\n",
              "</table>\n",
              "<p>1257 rows × 4 columns</p>\n",
              "</div>"
            ],
            "text/plain": [
              "           Date    Open   Close   Volume\n",
              "0    2020-05-15 1348.26 1373.06  2077199\n",
              "1    2020-05-14 1333.52 1356.86  1833017\n",
              "2    2020-05-13 1376.16 1348.33  2018404\n",
              "3    2020-05-12 1408.22 1375.18  1695874\n",
              "4    2020-05-11 1376.79 1403.59  1635856\n",
              "...         ...     ...     ...      ...\n",
              "1252 2015-05-27  548.68  554.25  1742200\n",
              "1253 2015-05-26  552.58  547.19  1866724\n",
              "1254 2015-05-22  554.46  554.52  1213200\n",
              "1255 2015-05-21  550.37  556.81  1708500\n",
              "1256 2015-05-20  550.92  552.51  1541962\n",
              "\n",
              "[1257 rows x 4 columns]"
            ]
          },
          "metadata": {
            "tags": []
          },
          "execution_count": 18
        }
      ]
    },
    {
      "cell_type": "markdown",
      "metadata": {
        "id": "TXUd_4631-gw"
      },
      "source": [
        "### <a name='8'></a> Exercise 128\n",
        "Set the index for the _Date_ column back. Display object _google_."
      ]
    },
    {
      "cell_type": "code",
      "metadata": {
        "id": "1asmE6YJYLw-",
        "colab": {
          "base_uri": "https://localhost:8080/",
          "height": 436
        },
        "outputId": "734e0893-7ced-460f-efeb-9ccc85cf4459"
      },
      "source": [
        "google = google.set_index('Date')\n",
        "google"
      ],
      "execution_count": null,
      "outputs": [
        {
          "output_type": "execute_result",
          "data": {
            "text/html": [
              "<div>\n",
              "<style scoped>\n",
              "    .dataframe tbody tr th:only-of-type {\n",
              "        vertical-align: middle;\n",
              "    }\n",
              "\n",
              "    .dataframe tbody tr th {\n",
              "        vertical-align: top;\n",
              "    }\n",
              "\n",
              "    .dataframe thead th {\n",
              "        text-align: right;\n",
              "    }\n",
              "</style>\n",
              "<table border=\"1\" class=\"dataframe\">\n",
              "  <thead>\n",
              "    <tr style=\"text-align: right;\">\n",
              "      <th></th>\n",
              "      <th>Open</th>\n",
              "      <th>High</th>\n",
              "      <th>Low</th>\n",
              "      <th>Close</th>\n",
              "      <th>Volume</th>\n",
              "      <th>Year</th>\n",
              "      <th>Month</th>\n",
              "    </tr>\n",
              "    <tr>\n",
              "      <th>Date</th>\n",
              "      <th></th>\n",
              "      <th></th>\n",
              "      <th></th>\n",
              "      <th></th>\n",
              "      <th></th>\n",
              "      <th></th>\n",
              "      <th></th>\n",
              "    </tr>\n",
              "  </thead>\n",
              "  <tbody>\n",
              "    <tr>\n",
              "      <th>2020-05-15</th>\n",
              "      <td>1348.26</td>\n",
              "      <td>1374.58</td>\n",
              "      <td>1339.00</td>\n",
              "      <td>1373.06</td>\n",
              "      <td>2077199</td>\n",
              "      <td>2020</td>\n",
              "      <td>5</td>\n",
              "    </tr>\n",
              "    <tr>\n",
              "      <th>2020-05-14</th>\n",
              "      <td>1333.52</td>\n",
              "      <td>1357.37</td>\n",
              "      <td>1323.30</td>\n",
              "      <td>1356.86</td>\n",
              "      <td>1833017</td>\n",
              "      <td>2020</td>\n",
              "      <td>5</td>\n",
              "    </tr>\n",
              "    <tr>\n",
              "      <th>2020-05-13</th>\n",
              "      <td>1376.16</td>\n",
              "      <td>1385.33</td>\n",
              "      <td>1328.01</td>\n",
              "      <td>1348.33</td>\n",
              "      <td>2018404</td>\n",
              "      <td>2020</td>\n",
              "      <td>5</td>\n",
              "    </tr>\n",
              "    <tr>\n",
              "      <th>2020-05-12</th>\n",
              "      <td>1408.22</td>\n",
              "      <td>1414.33</td>\n",
              "      <td>1374.51</td>\n",
              "      <td>1375.18</td>\n",
              "      <td>1695874</td>\n",
              "      <td>2020</td>\n",
              "      <td>5</td>\n",
              "    </tr>\n",
              "    <tr>\n",
              "      <th>2020-05-11</th>\n",
              "      <td>1376.79</td>\n",
              "      <td>1415.53</td>\n",
              "      <td>1375.50</td>\n",
              "      <td>1403.59</td>\n",
              "      <td>1635856</td>\n",
              "      <td>2020</td>\n",
              "      <td>5</td>\n",
              "    </tr>\n",
              "    <tr>\n",
              "      <th>...</th>\n",
              "      <td>...</td>\n",
              "      <td>...</td>\n",
              "      <td>...</td>\n",
              "      <td>...</td>\n",
              "      <td>...</td>\n",
              "      <td>...</td>\n",
              "      <td>...</td>\n",
              "    </tr>\n",
              "    <tr>\n",
              "      <th>2015-05-27</th>\n",
              "      <td>548.68</td>\n",
              "      <td>555.29</td>\n",
              "      <td>546.58</td>\n",
              "      <td>554.25</td>\n",
              "      <td>1742200</td>\n",
              "      <td>2015</td>\n",
              "      <td>5</td>\n",
              "    </tr>\n",
              "    <tr>\n",
              "      <th>2015-05-26</th>\n",
              "      <td>552.58</td>\n",
              "      <td>553.33</td>\n",
              "      <td>542.97</td>\n",
              "      <td>547.19</td>\n",
              "      <td>1866724</td>\n",
              "      <td>2015</td>\n",
              "      <td>5</td>\n",
              "    </tr>\n",
              "    <tr>\n",
              "      <th>2015-05-22</th>\n",
              "      <td>554.46</td>\n",
              "      <td>558.24</td>\n",
              "      <td>553.62</td>\n",
              "      <td>554.52</td>\n",
              "      <td>1213200</td>\n",
              "      <td>2015</td>\n",
              "      <td>5</td>\n",
              "    </tr>\n",
              "    <tr>\n",
              "      <th>2015-05-21</th>\n",
              "      <td>550.37</td>\n",
              "      <td>557.61</td>\n",
              "      <td>549.30</td>\n",
              "      <td>556.81</td>\n",
              "      <td>1708500</td>\n",
              "      <td>2015</td>\n",
              "      <td>5</td>\n",
              "    </tr>\n",
              "    <tr>\n",
              "      <th>2015-05-20</th>\n",
              "      <td>550.92</td>\n",
              "      <td>556.07</td>\n",
              "      <td>545.10</td>\n",
              "      <td>552.51</td>\n",
              "      <td>1541962</td>\n",
              "      <td>2015</td>\n",
              "      <td>5</td>\n",
              "    </tr>\n",
              "  </tbody>\n",
              "</table>\n",
              "<p>1257 rows × 7 columns</p>\n",
              "</div>"
            ],
            "text/plain": [
              "              Open    High     Low   Close   Volume  Year  Month\n",
              "Date                                                            \n",
              "2020-05-15 1348.26 1374.58 1339.00 1373.06  2077199  2020      5\n",
              "2020-05-14 1333.52 1357.37 1323.30 1356.86  1833017  2020      5\n",
              "2020-05-13 1376.16 1385.33 1328.01 1348.33  2018404  2020      5\n",
              "2020-05-12 1408.22 1414.33 1374.51 1375.18  1695874  2020      5\n",
              "2020-05-11 1376.79 1415.53 1375.50 1403.59  1635856  2020      5\n",
              "...            ...     ...     ...     ...      ...   ...    ...\n",
              "2015-05-27  548.68  555.29  546.58  554.25  1742200  2015      5\n",
              "2015-05-26  552.58  553.33  542.97  547.19  1866724  2015      5\n",
              "2015-05-22  554.46  558.24  553.62  554.52  1213200  2015      5\n",
              "2015-05-21  550.37  557.61  549.30  556.81  1708500  2015      5\n",
              "2015-05-20  550.92  556.07  545.10  552.51  1541962  2015      5\n",
              "\n",
              "[1257 rows x 7 columns]"
            ]
          },
          "metadata": {
            "tags": []
          },
          "execution_count": 19
        }
      ]
    },
    {
      "cell_type": "markdown",
      "metadata": {
        "id": "tgI6xEn-2AQo"
      },
      "source": [
        "### <a name='9'></a> Exercise 129\n",
        "Permanently remove the _Year_ and _Month_ columns from the _google_ object. Display object _google_."
      ]
    },
    {
      "cell_type": "code",
      "metadata": {
        "id": "tmRTUIEOYc9x",
        "colab": {
          "base_uri": "https://localhost:8080/",
          "height": 436
        },
        "outputId": "32c03dc4-56b4-4916-b708-055cb93c58af"
      },
      "source": [
        "google = google.drop(columns=['Year', 'Month'])\n",
        "google"
      ],
      "execution_count": null,
      "outputs": [
        {
          "output_type": "execute_result",
          "data": {
            "text/html": [
              "<div>\n",
              "<style scoped>\n",
              "    .dataframe tbody tr th:only-of-type {\n",
              "        vertical-align: middle;\n",
              "    }\n",
              "\n",
              "    .dataframe tbody tr th {\n",
              "        vertical-align: top;\n",
              "    }\n",
              "\n",
              "    .dataframe thead th {\n",
              "        text-align: right;\n",
              "    }\n",
              "</style>\n",
              "<table border=\"1\" class=\"dataframe\">\n",
              "  <thead>\n",
              "    <tr style=\"text-align: right;\">\n",
              "      <th></th>\n",
              "      <th>Open</th>\n",
              "      <th>High</th>\n",
              "      <th>Low</th>\n",
              "      <th>Close</th>\n",
              "      <th>Volume</th>\n",
              "    </tr>\n",
              "    <tr>\n",
              "      <th>Date</th>\n",
              "      <th></th>\n",
              "      <th></th>\n",
              "      <th></th>\n",
              "      <th></th>\n",
              "      <th></th>\n",
              "    </tr>\n",
              "  </thead>\n",
              "  <tbody>\n",
              "    <tr>\n",
              "      <th>2020-05-15</th>\n",
              "      <td>1348.26</td>\n",
              "      <td>1374.58</td>\n",
              "      <td>1339.00</td>\n",
              "      <td>1373.06</td>\n",
              "      <td>2077199</td>\n",
              "    </tr>\n",
              "    <tr>\n",
              "      <th>2020-05-14</th>\n",
              "      <td>1333.52</td>\n",
              "      <td>1357.37</td>\n",
              "      <td>1323.30</td>\n",
              "      <td>1356.86</td>\n",
              "      <td>1833017</td>\n",
              "    </tr>\n",
              "    <tr>\n",
              "      <th>2020-05-13</th>\n",
              "      <td>1376.16</td>\n",
              "      <td>1385.33</td>\n",
              "      <td>1328.01</td>\n",
              "      <td>1348.33</td>\n",
              "      <td>2018404</td>\n",
              "    </tr>\n",
              "    <tr>\n",
              "      <th>2020-05-12</th>\n",
              "      <td>1408.22</td>\n",
              "      <td>1414.33</td>\n",
              "      <td>1374.51</td>\n",
              "      <td>1375.18</td>\n",
              "      <td>1695874</td>\n",
              "    </tr>\n",
              "    <tr>\n",
              "      <th>2020-05-11</th>\n",
              "      <td>1376.79</td>\n",
              "      <td>1415.53</td>\n",
              "      <td>1375.50</td>\n",
              "      <td>1403.59</td>\n",
              "      <td>1635856</td>\n",
              "    </tr>\n",
              "    <tr>\n",
              "      <th>...</th>\n",
              "      <td>...</td>\n",
              "      <td>...</td>\n",
              "      <td>...</td>\n",
              "      <td>...</td>\n",
              "      <td>...</td>\n",
              "    </tr>\n",
              "    <tr>\n",
              "      <th>2015-05-27</th>\n",
              "      <td>548.68</td>\n",
              "      <td>555.29</td>\n",
              "      <td>546.58</td>\n",
              "      <td>554.25</td>\n",
              "      <td>1742200</td>\n",
              "    </tr>\n",
              "    <tr>\n",
              "      <th>2015-05-26</th>\n",
              "      <td>552.58</td>\n",
              "      <td>553.33</td>\n",
              "      <td>542.97</td>\n",
              "      <td>547.19</td>\n",
              "      <td>1866724</td>\n",
              "    </tr>\n",
              "    <tr>\n",
              "      <th>2015-05-22</th>\n",
              "      <td>554.46</td>\n",
              "      <td>558.24</td>\n",
              "      <td>553.62</td>\n",
              "      <td>554.52</td>\n",
              "      <td>1213200</td>\n",
              "    </tr>\n",
              "    <tr>\n",
              "      <th>2015-05-21</th>\n",
              "      <td>550.37</td>\n",
              "      <td>557.61</td>\n",
              "      <td>549.30</td>\n",
              "      <td>556.81</td>\n",
              "      <td>1708500</td>\n",
              "    </tr>\n",
              "    <tr>\n",
              "      <th>2015-05-20</th>\n",
              "      <td>550.92</td>\n",
              "      <td>556.07</td>\n",
              "      <td>545.10</td>\n",
              "      <td>552.51</td>\n",
              "      <td>1541962</td>\n",
              "    </tr>\n",
              "  </tbody>\n",
              "</table>\n",
              "<p>1257 rows × 5 columns</p>\n",
              "</div>"
            ],
            "text/plain": [
              "              Open    High     Low   Close   Volume\n",
              "Date                                               \n",
              "2020-05-15 1348.26 1374.58 1339.00 1373.06  2077199\n",
              "2020-05-14 1333.52 1357.37 1323.30 1356.86  1833017\n",
              "2020-05-13 1376.16 1385.33 1328.01 1348.33  2018404\n",
              "2020-05-12 1408.22 1414.33 1374.51 1375.18  1695874\n",
              "2020-05-11 1376.79 1415.53 1375.50 1403.59  1635856\n",
              "...            ...     ...     ...     ...      ...\n",
              "2015-05-27  548.68  555.29  546.58  554.25  1742200\n",
              "2015-05-26  552.58  553.33  542.97  547.19  1866724\n",
              "2015-05-22  554.46  558.24  553.62  554.52  1213200\n",
              "2015-05-21  550.37  557.61  549.30  556.81  1708500\n",
              "2015-05-20  550.92  556.07  545.10  552.51  1541962\n",
              "\n",
              "[1257 rows x 5 columns]"
            ]
          },
          "metadata": {
            "tags": []
          },
          "execution_count": 20
        }
      ]
    },
    {
      "cell_type": "markdown",
      "metadata": {
        "id": "wxhpf-uq2B1I"
      },
      "source": [
        "### <a name='10'></a> Exercise 130\n",
        "\n",
        "Assign the following values to the column names:\n",
        "* Open -> O\n",
        "* High -> H\n",
        "* Low -> L\n",
        "* Close -> C\n",
        "* Volume -> V\n",
        "\n",
        "to object _google_. Display object _google_."
      ]
    },
    {
      "cell_type": "code",
      "metadata": {
        "id": "YFc0KW6URsuc",
        "colab": {
          "base_uri": "https://localhost:8080/",
          "height": 436
        },
        "outputId": "8a796de3-0d37-4202-b6d0-8817106e331b"
      },
      "source": [
        "google.columns = ['O', 'H', 'L', 'C', 'V']\n",
        "google"
      ],
      "execution_count": null,
      "outputs": [
        {
          "output_type": "execute_result",
          "data": {
            "text/html": [
              "<div>\n",
              "<style scoped>\n",
              "    .dataframe tbody tr th:only-of-type {\n",
              "        vertical-align: middle;\n",
              "    }\n",
              "\n",
              "    .dataframe tbody tr th {\n",
              "        vertical-align: top;\n",
              "    }\n",
              "\n",
              "    .dataframe thead th {\n",
              "        text-align: right;\n",
              "    }\n",
              "</style>\n",
              "<table border=\"1\" class=\"dataframe\">\n",
              "  <thead>\n",
              "    <tr style=\"text-align: right;\">\n",
              "      <th></th>\n",
              "      <th>O</th>\n",
              "      <th>H</th>\n",
              "      <th>L</th>\n",
              "      <th>C</th>\n",
              "      <th>V</th>\n",
              "    </tr>\n",
              "    <tr>\n",
              "      <th>Date</th>\n",
              "      <th></th>\n",
              "      <th></th>\n",
              "      <th></th>\n",
              "      <th></th>\n",
              "      <th></th>\n",
              "    </tr>\n",
              "  </thead>\n",
              "  <tbody>\n",
              "    <tr>\n",
              "      <th>2020-05-15</th>\n",
              "      <td>1348.26</td>\n",
              "      <td>1374.58</td>\n",
              "      <td>1339.00</td>\n",
              "      <td>1373.06</td>\n",
              "      <td>2077199</td>\n",
              "    </tr>\n",
              "    <tr>\n",
              "      <th>2020-05-14</th>\n",
              "      <td>1333.52</td>\n",
              "      <td>1357.37</td>\n",
              "      <td>1323.30</td>\n",
              "      <td>1356.86</td>\n",
              "      <td>1833017</td>\n",
              "    </tr>\n",
              "    <tr>\n",
              "      <th>2020-05-13</th>\n",
              "      <td>1376.16</td>\n",
              "      <td>1385.33</td>\n",
              "      <td>1328.01</td>\n",
              "      <td>1348.33</td>\n",
              "      <td>2018404</td>\n",
              "    </tr>\n",
              "    <tr>\n",
              "      <th>2020-05-12</th>\n",
              "      <td>1408.22</td>\n",
              "      <td>1414.33</td>\n",
              "      <td>1374.51</td>\n",
              "      <td>1375.18</td>\n",
              "      <td>1695874</td>\n",
              "    </tr>\n",
              "    <tr>\n",
              "      <th>2020-05-11</th>\n",
              "      <td>1376.79</td>\n",
              "      <td>1415.53</td>\n",
              "      <td>1375.50</td>\n",
              "      <td>1403.59</td>\n",
              "      <td>1635856</td>\n",
              "    </tr>\n",
              "    <tr>\n",
              "      <th>...</th>\n",
              "      <td>...</td>\n",
              "      <td>...</td>\n",
              "      <td>...</td>\n",
              "      <td>...</td>\n",
              "      <td>...</td>\n",
              "    </tr>\n",
              "    <tr>\n",
              "      <th>2015-05-27</th>\n",
              "      <td>548.68</td>\n",
              "      <td>555.29</td>\n",
              "      <td>546.58</td>\n",
              "      <td>554.25</td>\n",
              "      <td>1742200</td>\n",
              "    </tr>\n",
              "    <tr>\n",
              "      <th>2015-05-26</th>\n",
              "      <td>552.58</td>\n",
              "      <td>553.33</td>\n",
              "      <td>542.97</td>\n",
              "      <td>547.19</td>\n",
              "      <td>1866724</td>\n",
              "    </tr>\n",
              "    <tr>\n",
              "      <th>2015-05-22</th>\n",
              "      <td>554.46</td>\n",
              "      <td>558.24</td>\n",
              "      <td>553.62</td>\n",
              "      <td>554.52</td>\n",
              "      <td>1213200</td>\n",
              "    </tr>\n",
              "    <tr>\n",
              "      <th>2015-05-21</th>\n",
              "      <td>550.37</td>\n",
              "      <td>557.61</td>\n",
              "      <td>549.30</td>\n",
              "      <td>556.81</td>\n",
              "      <td>1708500</td>\n",
              "    </tr>\n",
              "    <tr>\n",
              "      <th>2015-05-20</th>\n",
              "      <td>550.92</td>\n",
              "      <td>556.07</td>\n",
              "      <td>545.10</td>\n",
              "      <td>552.51</td>\n",
              "      <td>1541962</td>\n",
              "    </tr>\n",
              "  </tbody>\n",
              "</table>\n",
              "<p>1257 rows × 5 columns</p>\n",
              "</div>"
            ],
            "text/plain": [
              "                 O       H       L       C        V\n",
              "Date                                               \n",
              "2020-05-15 1348.26 1374.58 1339.00 1373.06  2077199\n",
              "2020-05-14 1333.52 1357.37 1323.30 1356.86  1833017\n",
              "2020-05-13 1376.16 1385.33 1328.01 1348.33  2018404\n",
              "2020-05-12 1408.22 1414.33 1374.51 1375.18  1695874\n",
              "2020-05-11 1376.79 1415.53 1375.50 1403.59  1635856\n",
              "...            ...     ...     ...     ...      ...\n",
              "2015-05-27  548.68  555.29  546.58  554.25  1742200\n",
              "2015-05-26  552.58  553.33  542.97  547.19  1866724\n",
              "2015-05-22  554.46  558.24  553.62  554.52  1213200\n",
              "2015-05-21  550.37  557.61  549.30  556.81  1708500\n",
              "2015-05-20  550.92  556.07  545.10  552.51  1541962\n",
              "\n",
              "[1257 rows x 5 columns]"
            ]
          },
          "metadata": {
            "tags": []
          },
          "execution_count": 21
        }
      ]
    },
    {
      "cell_type": "code",
      "metadata": {
        "id": "1VEonFR4Yx3h"
      },
      "source": [],
      "execution_count": null,
      "outputs": []
    }
  ]
}