{
  "nbformat": 4,
  "nbformat_minor": 0,
  "metadata": {
    "colab": {
      "provenance": []
    },
    "kernelspec": {
      "name": "python3",
      "display_name": "Python 3"
    }
  },
  "cells": [
    {
      "cell_type": "markdown",
      "metadata": {
        "id": "WLEgCW5F1hho"
      },
      "source": [
        "## Numpy\n",
        "\n",
        "### Table of contents:\n",
        "* [Import biblioteki](#0)\n",
        "* [Exercise 91](#1)\n",
        "* [Exercise 92](#2)\n",
        "* [Exercise 93](#3)\n",
        "* [Exercise 94](#4)\n",
        "* [Exercise 95](#5)\n",
        "* [Exercise 96](#6)\n",
        "* [Exercise 97](#7)\n",
        "* [Exercise 98](#8)\n",
        "* [Exercise 99](#9)\n",
        "* [Exercise 100](#10)"
      ]
    },
    {
      "cell_type": "markdown",
      "metadata": {
        "id": "zeLOLmTj1kBM"
      },
      "source": [
        "### <a name='0'></a> Import of libraries"
      ]
    },
    {
      "cell_type": "code",
      "metadata": {
        "id": "HXMB7SMe1Wnz",
        "colab": {
          "base_uri": "https://localhost:8080/",
          "height": 33
        },
        "outputId": "1a35bbfc-40b0-4d70-97a5-e0843e18e353"
      },
      "source": [
        "import numpy as np\n",
        "\n",
        "np.set_printoptions(linewidth=160, suppress=True)\n",
        "np.__version__"
      ],
      "execution_count": null,
      "outputs": [
        {
          "output_type": "execute_result",
          "data": {
            "text/plain": [
              "'1.18.4'"
            ]
          },
          "metadata": {
            "tags": []
          },
          "execution_count": 1
        }
      ]
    },
    {
      "cell_type": "markdown",
      "metadata": {
        "id": "cyc70pMe1oCg"
      },
      "source": [
        "### <a name='1'></a> Exercise 91\n",
        "The following string _wig_games_raw_ is provided containing data on the WIG.GAMES sector index:\n",
        "\n",
        "```\n",
        "wig_games_raw = \"\"\"Profile\tTime\tCourse\tChange\tChange%\tRef.\tOpen\tLow\tHigh\tVolume\tTurn\tShare\n",
        "11B (11BIT)\t17 kwi 17:01\t391.00\t+8.00\t(+2.09%)\t383.00\t383.50\t383.00\t394.00\t12 784\t4 994 874\t19.034%\n",
        "CDR (CDPROJEKT)\t17 kwi 17:01\t339.50\t+5.30\t(+1.59%)\t334.20\t338.30\t337.00\t344.20\t233 059\t79 245 368\t39.618%\n",
        "CIG (CIGAMES)\t17 kwi 17:03\t0.742\t-0.012\t(-1.59%)\t0.754\t0.772\t0.730\t0.772\t1 311 078\t971 459\t1.855%\n",
        "PLW (PLAYWAY)\t17 kwi 17:03\t387.50\t+18.00\t(+4.87%)\t369.50\t374.00\t373.00\t388.00\t33 206\t12 661 786\t10.638%\n",
        "TEN (TSGAMES)\t17 kwi 17:02\t349.50\t+22.50\t(+6.88%)\t327.00\t332.00\t330.00\t353.50\t39 793\t13 697 060\t28.855%\"\"\"\n",
        "```\n",
        "Build a numpy array from this data and name it _wig_games_.\n",
        "\n",
        "__Expected result:__\n",
        "```\n",
        "array([['Profile', 'Time', 'Course', 'Change', 'Change%', 'Ref.', 'Open', 'Low', 'High', 'Volume', 'Turn', 'Share'],\n",
        "       ['11B(11BIT)', '17kwi17:01', '391.00', '+8.00', '(+2.09%)', '383.00', '383.50', '383.00', '394.00', '12784', '4994874', '19.034%'],\n",
        "       ['CDR(CDPROJEKT)', '17kwi17:01', '339.50', '+5.30', '(+1.59%)', '334.20', '338.30', '337.00', '344.20', '233059', '79245368', '39.618%'],\n",
        "       ['CIG(CIGAMES)', '17kwi17:03', '0.742', '-0.012', '(-1.59%)', '0.754', '0.772', '0.730', '0.772', '1311078', '971459', '1.855%'],\n",
        "       ['PLW(PLAYWAY)', '17kwi17:03', '387.50', '+18.00', '(+4.87%)', '369.50', '374.00', '373.00', '388.00', '33206', '12661786', '10.638%'],\n",
        "       ['TEN(TSGAMES)', '17kwi17:02', '349.50', '+22.50', '(+6.88%)', '327.00', '332.00', '330.00', '353.50', '39793', '13697060', '28.855%']], dtype='<U14')\n",
        "```\n"
      ]
    },
    {
      "cell_type": "code",
      "metadata": {
        "id": "bcd5Ic9lE0j8",
        "colab": {
          "base_uri": "https://localhost:8080/",
          "height": 136
        },
        "outputId": "f539954f-eb6b-493d-87ea-7bd3b27cb463"
      },
      "source": [
        "wig_games_raw = \"\"\"Profile\tTime\tCourse\tChange\tChange%\tRef.\tOpen\tLow\tHigh\tVolume\tTurn\tShare\n",
        "11B (11BIT)\t17 kwi 17:01\t391.00\t+8.00\t(+2.09%)\t383.00\t383.50\t383.00\t394.00\t12 784\t4 994 874\t19.034%\n",
        "CDR (CDPROJEKT)\t17 kwi 17:01\t339.50\t+5.30\t(+1.59%)\t334.20\t338.30\t337.00\t344.20\t233 059\t79 245 368\t39.618%\n",
        "CIG (CIGAMES)\t17 kwi 17:03\t0.742\t-0.012\t(-1.59%)\t0.754\t0.772\t0.730\t0.772\t1 311 078\t971 459\t1.855%\n",
        "PLW (PLAYWAY)\t17 kwi 17:03\t387.50\t+18.00\t(+4.87%)\t369.50\t374.00\t373.00\t388.00\t33 206\t12 661 786\t10.638%\n",
        "TEN (TSGAMES)\t17 kwi 17:02\t349.50\t+22.50\t(+6.88%)\t327.00\t332.00\t330.00\t353.50\t39 793\t13 697 060\t28.855%\"\"\"\n",
        "\n",
        "lines = wig_games_raw.splitlines()\n",
        "lines = [line.split('\\t') for line in lines]\n",
        "wig_games = np.array(lines, dtype=np.str)\n",
        "wig_games = np.char.replace(wig_games, ' ', '')\n",
        "wig_games"
      ],
      "execution_count": null,
      "outputs": [
        {
          "output_type": "execute_result",
          "data": {
            "text/plain": [
              "array([['Profile', 'Time', 'Course', 'Change', 'Change%', 'Ref.', 'Open', 'Low', 'High', 'Volume', 'Turn', 'Share'],\n",
              "       ['11B(11BIT)', '17kwi17:01', '391.00', '+8.00', '(+2.09%)', '383.00', '383.50', '383.00', '394.00', '12784', '4994874', '19.034%'],\n",
              "       ['CDR(CDPROJEKT)', '17kwi17:01', '339.50', '+5.30', '(+1.59%)', '334.20', '338.30', '337.00', '344.20', '233059', '79245368', '39.618%'],\n",
              "       ['CIG(CIGAMES)', '17kwi17:03', '0.742', '-0.012', '(-1.59%)', '0.754', '0.772', '0.730', '0.772', '1311078', '971459', '1.855%'],\n",
              "       ['PLW(PLAYWAY)', '17kwi17:03', '387.50', '+18.00', '(+4.87%)', '369.50', '374.00', '373.00', '388.00', '33206', '12661786', '10.638%'],\n",
              "       ['TEN(TSGAMES)', '17kwi17:02', '349.50', '+22.50', '(+6.88%)', '327.00', '332.00', '330.00', '353.50', '39793', '13697060', '28.855%']], dtype='<U14')"
            ]
          },
          "metadata": {
            "tags": []
          },
          "execution_count": 2
        }
      ]
    },
    {
      "cell_type": "markdown",
      "metadata": {
        "id": "J9pY1rtr1sC0"
      },
      "source": [
        "### <a name='2'></a> Exercise 92\n",
        "Remove the columns from the _wig_games_ array from the previous exercise:\n",
        "* Change\n",
        "* Change%\n",
        "* Ref.\n",
        "* Volume\n",
        "\n",
        "__Expected result:__\n",
        "```\n",
        "array([['Profile', 'Time', 'Course', 'Open', 'Low', 'High', 'Turn', 'Share'],\n",
        "       ['11B(11BIT)', '17kwi17:01', '391.00', '383.50', '383.00', '394.00', '4994874', '19.034%'],\n",
        "       ['CDR(CDPROJEKT)', '17kwi17:01', '339.50', '338.30', '337.00', '344.20', '79245368', '39.618%'],\n",
        "       ['CIG(CIGAMES)', '17kwi17:03', '0.742', '0.772', '0.730', '0.772', '971459', '1.855%'],\n",
        "       ['PLW(PLAYWAY)', '17kwi17:03', '387.50', '374.00', '373.00', '388.00', '12661786', '10.638%'],\n",
        "       ['TEN(TSGAMES)', '17kwi17:02', '349.50', '332.00', '330.00', '353.50', '13697060', '28.855%']], dtype='<U14')\n",
        "```\n"
      ]
    },
    {
      "cell_type": "code",
      "metadata": {
        "id": "YdcOOs0IFqjY",
        "colab": {
          "base_uri": "https://localhost:8080/",
          "height": 116
        },
        "outputId": "163c022f-3ada-4d48-e298-4bb800072737"
      },
      "source": [
        "wig_games = np.delete(wig_games, [3, 4, 5, 9], axis=1)\n",
        "wig_games"
      ],
      "execution_count": null,
      "outputs": [
        {
          "output_type": "execute_result",
          "data": {
            "text/plain": [
              "array([['Profile', 'Time', 'Course', 'Open', 'Low', 'High', 'Turn', 'Share'],\n",
              "       ['11B(11BIT)', '17kwi17:01', '391.00', '383.50', '383.00', '394.00', '4994874', '19.034%'],\n",
              "       ['CDR(CDPROJEKT)', '17kwi17:01', '339.50', '338.30', '337.00', '344.20', '79245368', '39.618%'],\n",
              "       ['CIG(CIGAMES)', '17kwi17:03', '0.742', '0.772', '0.730', '0.772', '971459', '1.855%'],\n",
              "       ['PLW(PLAYWAY)', '17kwi17:03', '387.50', '374.00', '373.00', '388.00', '12661786', '10.638%'],\n",
              "       ['TEN(TSGAMES)', '17kwi17:02', '349.50', '332.00', '330.00', '353.50', '13697060', '28.855%']], dtype='<U14')"
            ]
          },
          "metadata": {
            "tags": []
          },
          "execution_count": 3
        }
      ]
    },
    {
      "cell_type": "markdown",
      "metadata": {
        "id": "XQLYT2m11wVG"
      },
      "source": [
        "### <a name='3'></a> Exercise 93\n",
        "Save the array _wig_games_ from the previous exercise to the _wig_games.csv_ file."
      ]
    },
    {
      "cell_type": "code",
      "metadata": {
        "id": "beoC0ClPF7E_"
      },
      "source": [
        "np.savetxt(fname='wig_games.csv', X=wig_games, fmt='%s', delimiter=',')"
      ],
      "execution_count": null,
      "outputs": []
    },
    {
      "cell_type": "markdown",
      "metadata": {
        "id": "AjylI6QcF_D2"
      },
      "source": [
        "Run the cell below to check."
      ]
    },
    {
      "cell_type": "code",
      "metadata": {
        "id": "w62wvOXbF80M",
        "colab": {
          "base_uri": "https://localhost:8080/",
          "height": 116
        },
        "outputId": "78741273-34d7-4885-cf6c-4dad98dcc8c9"
      },
      "source": [
        "!head wig_games.csv"
      ],
      "execution_count": null,
      "outputs": [
        {
          "output_type": "stream",
          "text": [
            "Profile,Time,Course,Open,Low,High,Turn,Share\n",
            "11B(11BIT),17kwi17:01,391.00,383.50,383.00,394.00,4994874,19.034%\n",
            "CDR(CDPROJEKT),17kwi17:01,339.50,338.30,337.00,344.20,79245368,39.618%\n",
            "CIG(CIGAMES),17kwi17:03,0.742,0.772,0.730,0.772,971459,1.855%\n",
            "PLW(PLAYWAY),17kwi17:03,387.50,374.00,373.00,388.00,12661786,10.638%\n",
            "TEN(TSGAMES),17kwi17:02,349.50,332.00,330.00,353.50,13697060,28.855%\n"
          ],
          "name": "stdout"
        }
      ]
    },
    {
      "cell_type": "markdown",
      "metadata": {
        "id": "4xTKSUzg10MK"
      },
      "source": [
        "### <a name='4'></a> Exercise 94\n",
        "Load the contents of the _wig_games.csv_ file into the _wig_games_new_ variable."
      ]
    },
    {
      "cell_type": "code",
      "metadata": {
        "id": "-UetoQXFGFkN",
        "colab": {
          "base_uri": "https://localhost:8080/",
          "height": 116
        },
        "outputId": "73a0fa52-e7c7-4f26-bb39-a41d8bd2565f"
      },
      "source": [
        "wig_games_new = np.loadtxt(fname='wig_games.csv', delimiter=',', dtype=str)\n",
        "wig_games_new"
      ],
      "execution_count": null,
      "outputs": [
        {
          "output_type": "execute_result",
          "data": {
            "text/plain": [
              "array([['Profile', 'Time', 'Course', 'Open', 'Low', 'High', 'Turn', 'Share'],\n",
              "       ['11B(11BIT)', '17kwi17:01', '391.00', '383.50', '383.00', '394.00', '4994874', '19.034%'],\n",
              "       ['CDR(CDPROJEKT)', '17kwi17:01', '339.50', '338.30', '337.00', '344.20', '79245368', '39.618%'],\n",
              "       ['CIG(CIGAMES)', '17kwi17:03', '0.742', '0.772', '0.730', '0.772', '971459', '1.855%'],\n",
              "       ['PLW(PLAYWAY)', '17kwi17:03', '387.50', '374.00', '373.00', '388.00', '12661786', '10.638%'],\n",
              "       ['TEN(TSGAMES)', '17kwi17:02', '349.50', '332.00', '330.00', '353.50', '13697060', '28.855%']], dtype='<U14')"
            ]
          },
          "metadata": {
            "tags": []
          },
          "execution_count": 6
        }
      ]
    },
    {
      "cell_type": "markdown",
      "metadata": {
        "id": "o3HKIKlP15Ro"
      },
      "source": [
        "### <a name='5'></a> Exercise 95\n",
        "The following string _playway_raw_ is provided containing Playway's March 2020 listings:\n",
        "\n",
        "```\n",
        "playway_raw = \"\"\"Date,Open,High,Low,Close,Volume\n",
        "2020-03-02,305,324.5,283.5,310,64081\n",
        "2020-03-03,325.5,340.5,320,340.5,55496\n",
        "2020-03-04,324,340.5,315,330,36152\n",
        "2020-03-05,344,344,310,315,35992\n",
        "2020-03-06,306.5,307,291,305,32539\n",
        "2020-03-09,274,291,250,258,79402\n",
        "2020-03-10,278,284.5,256,264,35700\n",
        "2020-03-11,270,270,238.5,245,60445\n",
        "2020-03-12,218,228,196,197,94031\n",
        "2020-03-13,210,229,198.8,211,100412\n",
        "2020-03-16,205,248,197.8,240.5,50659\n",
        "2020-03-17,245,269,232.5,264,99480\n",
        "2020-03-18,264,280,251,270,70136\n",
        "2020-03-19,267,280,267,279.5,30732\n",
        "2020-03-20,297.5,307,280,280.5,43426\n",
        "2020-03-23,274,289,258,285,37098\n",
        "2020-03-24,305,309,296.5,309,31939\n",
        "2020-03-25,313,330,295,304,46724\n",
        "2020-03-26,300,309,295.5,300,27213\n",
        "2020-03-27,302,306.5,290,296,13466\n",
        "2020-03-30,299,300,287,300,10316\n",
        "2020-03-31,302.5,309,302,306.5,15698\"\"\"\n",
        "```\n",
        "\n",
        "Create an array named _playway_ and assign the following data to it."
      ]
    },
    {
      "cell_type": "code",
      "metadata": {
        "id": "5FvKC4GsGXBd",
        "colab": {
          "base_uri": "https://localhost:8080/",
          "height": 400
        },
        "outputId": "877c66ec-36bf-4fd1-a33b-d6dadffb8772"
      },
      "source": [
        "playway_raw = \"\"\"Date,Open,High,Low,Close,Volume\n",
        "2020-03-02,305,324.5,283.5,310,64081\n",
        "2020-03-03,325.5,340.5,320,340.5,55496\n",
        "2020-03-04,324,340.5,315,330,36152\n",
        "2020-03-05,344,344,310,315,35992\n",
        "2020-03-06,306.5,307,291,305,32539\n",
        "2020-03-09,274,291,250,258,79402\n",
        "2020-03-10,278,284.5,256,264,35700\n",
        "2020-03-11,270,270,238.5,245,60445\n",
        "2020-03-12,218,228,196,197,94031\n",
        "2020-03-13,210,229,198.8,211,100412\n",
        "2020-03-16,205,248,197.8,240.5,50659\n",
        "2020-03-17,245,269,232.5,264,99480\n",
        "2020-03-18,264,280,251,270,70136\n",
        "2020-03-19,267,280,267,279.5,30732\n",
        "2020-03-20,297.5,307,280,280.5,43426\n",
        "2020-03-23,274,289,258,285,37098\n",
        "2020-03-24,305,309,296.5,309,31939\n",
        "2020-03-25,313,330,295,304,46724\n",
        "2020-03-26,300,309,295.5,300,27213\n",
        "2020-03-27,302,306.5,290,296,13466\n",
        "2020-03-30,299,300,287,300,10316\n",
        "2020-03-31,302.5,309,302,306.5,15698\"\"\"\n",
        "\n",
        "lines = playway_raw.splitlines()\n",
        "lines = [line.split(',') for line in lines]\n",
        "playway = np.array(lines, dtype=np.str)\n",
        "playway"
      ],
      "execution_count": null,
      "outputs": [
        {
          "output_type": "execute_result",
          "data": {
            "text/plain": [
              "array([['Date', 'Open', 'High', 'Low', 'Close', 'Volume'],\n",
              "       ['2020-03-02', '305', '324.5', '283.5', '310', '64081'],\n",
              "       ['2020-03-03', '325.5', '340.5', '320', '340.5', '55496'],\n",
              "       ['2020-03-04', '324', '340.5', '315', '330', '36152'],\n",
              "       ['2020-03-05', '344', '344', '310', '315', '35992'],\n",
              "       ['2020-03-06', '306.5', '307', '291', '305', '32539'],\n",
              "       ['2020-03-09', '274', '291', '250', '258', '79402'],\n",
              "       ['2020-03-10', '278', '284.5', '256', '264', '35700'],\n",
              "       ['2020-03-11', '270', '270', '238.5', '245', '60445'],\n",
              "       ['2020-03-12', '218', '228', '196', '197', '94031'],\n",
              "       ['2020-03-13', '210', '229', '198.8', '211', '100412'],\n",
              "       ['2020-03-16', '205', '248', '197.8', '240.5', '50659'],\n",
              "       ['2020-03-17', '245', '269', '232.5', '264', '99480'],\n",
              "       ['2020-03-18', '264', '280', '251', '270', '70136'],\n",
              "       ['2020-03-19', '267', '280', '267', '279.5', '30732'],\n",
              "       ['2020-03-20', '297.5', '307', '280', '280.5', '43426'],\n",
              "       ['2020-03-23', '274', '289', '258', '285', '37098'],\n",
              "       ['2020-03-24', '305', '309', '296.5', '309', '31939'],\n",
              "       ['2020-03-25', '313', '330', '295', '304', '46724'],\n",
              "       ['2020-03-26', '300', '309', '295.5', '300', '27213'],\n",
              "       ['2020-03-27', '302', '306.5', '290', '296', '13466'],\n",
              "       ['2020-03-30', '299', '300', '287', '300', '10316'],\n",
              "       ['2020-03-31', '302.5', '309', '302', '306.5', '15698']], dtype='<U10')"
            ]
          },
          "metadata": {
            "tags": []
          },
          "execution_count": 7
        }
      ]
    },
    {
      "cell_type": "markdown",
      "metadata": {
        "id": "rm37tjRpGiRy"
      },
      "source": [
        "Delete the column named 'Date'. Assign only column values without headers to the _playway_values_ variable. Convert the array to the _float_ data type.\n",
        "\n",
        "__Expected result:__\n",
        "```\n",
        "array([[   305. ,    324.5,    283.5,    310. ,  64081. ],\n",
        "       [   325.5,    340.5,    320. ,    340.5,  55496. ],\n",
        "       [   324. ,    340.5,    315. ,    330. ,  36152. ],\n",
        "       [   344. ,    344. ,    310. ,    315. ,  35992. ],\n",
        "       [   306.5,    307. ,    291. ,    305. ,  32539. ],\n",
        "       [   274. ,    291. ,    250. ,    258. ,  79402. ],\n",
        "       [   278. ,    284.5,    256. ,    264. ,  35700. ],\n",
        "       [   270. ,    270. ,    238.5,    245. ,  60445. ],\n",
        "       [   218. ,    228. ,    196. ,    197. ,  94031. ],\n",
        "       [   210. ,    229. ,    198.8,    211. , 100412. ],\n",
        "       [   205. ,    248. ,    197.8,    240.5,  50659. ],\n",
        "       [   245. ,    269. ,    232.5,    264. ,  99480. ],\n",
        "       [   264. ,    280. ,    251. ,    270. ,  70136. ],\n",
        "       [   267. ,    280. ,    267. ,    279.5,  30732. ],\n",
        "       [   297.5,    307. ,    280. ,    280.5,  43426. ],\n",
        "       [   274. ,    289. ,    258. ,    285. ,  37098. ],\n",
        "       [   305. ,    309. ,    296.5,    309. ,  31939. ],\n",
        "       [   313. ,    330. ,    295. ,    304. ,  46724. ],\n",
        "       [   300. ,    309. ,    295.5,    300. ,  27213. ],\n",
        "       [   302. ,    306.5,    290. ,    296. ,  13466. ],\n",
        "       [   299. ,    300. ,    287. ,    300. ,  10316. ],\n",
        "       [   302.5,    309. ,    302. ,    306.5,  15698. ]])\n",
        "```"
      ]
    },
    {
      "cell_type": "code",
      "metadata": {
        "id": "AMs_mUA2GsT4",
        "colab": {
          "base_uri": "https://localhost:8080/",
          "height": 383
        },
        "outputId": "7efe4784-007b-4431-a5e1-d156cea52654"
      },
      "source": [
        "playway = np.delete(playway, [0], axis=1)\n",
        "playway_values = playway[1:].astype(float)\n",
        "playway_values"
      ],
      "execution_count": null,
      "outputs": [
        {
          "output_type": "execute_result",
          "data": {
            "text/plain": [
              "array([[   305. ,    324.5,    283.5,    310. ,  64081. ],\n",
              "       [   325.5,    340.5,    320. ,    340.5,  55496. ],\n",
              "       [   324. ,    340.5,    315. ,    330. ,  36152. ],\n",
              "       [   344. ,    344. ,    310. ,    315. ,  35992. ],\n",
              "       [   306.5,    307. ,    291. ,    305. ,  32539. ],\n",
              "       [   274. ,    291. ,    250. ,    258. ,  79402. ],\n",
              "       [   278. ,    284.5,    256. ,    264. ,  35700. ],\n",
              "       [   270. ,    270. ,    238.5,    245. ,  60445. ],\n",
              "       [   218. ,    228. ,    196. ,    197. ,  94031. ],\n",
              "       [   210. ,    229. ,    198.8,    211. , 100412. ],\n",
              "       [   205. ,    248. ,    197.8,    240.5,  50659. ],\n",
              "       [   245. ,    269. ,    232.5,    264. ,  99480. ],\n",
              "       [   264. ,    280. ,    251. ,    270. ,  70136. ],\n",
              "       [   267. ,    280. ,    267. ,    279.5,  30732. ],\n",
              "       [   297.5,    307. ,    280. ,    280.5,  43426. ],\n",
              "       [   274. ,    289. ,    258. ,    285. ,  37098. ],\n",
              "       [   305. ,    309. ,    296.5,    309. ,  31939. ],\n",
              "       [   313. ,    330. ,    295. ,    304. ,  46724. ],\n",
              "       [   300. ,    309. ,    295.5,    300. ,  27213. ],\n",
              "       [   302. ,    306.5,    290. ,    296. ,  13466. ],\n",
              "       [   299. ,    300. ,    287. ,    300. ,  10316. ],\n",
              "       [   302.5,    309. ,    302. ,    306.5,  15698. ]])"
            ]
          },
          "metadata": {
            "tags": []
          },
          "execution_count": 8
        }
      ]
    },
    {
      "cell_type": "markdown",
      "metadata": {
        "id": "PunXd_Ey16so"
      },
      "source": [
        "### <a name='6'></a> Exercise 96\n",
        "For the _playway_values_ array from the previous exercise, calculate the average value for each column. Round the result to two decimal places."
      ]
    },
    {
      "cell_type": "code",
      "metadata": {
        "id": "GqjeRi1zG1gn",
        "colab": {
          "base_uri": "https://localhost:8080/",
          "height": 33
        },
        "outputId": "e87651c9-c182-4e0f-ef16-9b4a32138747"
      },
      "source": [
        "np.round(playway_values.mean(axis=0), 2)"
      ],
      "execution_count": null,
      "outputs": [
        {
          "output_type": "execute_result",
          "data": {
            "text/plain": [
              "array([  283.14,   295.25,   268.69,   282.3 , 48688.05])"
            ]
          },
          "metadata": {
            "tags": []
          },
          "execution_count": 9
        }
      ]
    },
    {
      "cell_type": "markdown",
      "metadata": {
        "id": "K-yqRPzJG3iF"
      },
      "source": [
        "For the _playway_values_ array from the previous exercise, calculate the minimum value for each column. Round the result to two decimal places."
      ]
    },
    {
      "cell_type": "code",
      "metadata": {
        "id": "HP4D6YIaG6OJ",
        "colab": {
          "base_uri": "https://localhost:8080/",
          "height": 33
        },
        "outputId": "76eb4c10-cbfd-49c9-ff1a-2235ae25d24e"
      },
      "source": [
        "np.round(playway_values.min(axis=0), 2)"
      ],
      "execution_count": null,
      "outputs": [
        {
          "output_type": "execute_result",
          "data": {
            "text/plain": [
              "array([  205.,   228.,   196.,   197., 10316.])"
            ]
          },
          "metadata": {
            "tags": []
          },
          "execution_count": 10
        }
      ]
    },
    {
      "cell_type": "markdown",
      "metadata": {
        "id": "jvHfyvA4G7vV"
      },
      "source": [
        "For the _playway_values_ array from the previous exercise, calculate the maximum value for each column. Round the result to two decimal places."
      ]
    },
    {
      "cell_type": "code",
      "metadata": {
        "id": "s5LNRNCnG_oT",
        "colab": {
          "base_uri": "https://localhost:8080/",
          "height": 33
        },
        "outputId": "55056ca2-8035-4535-9d7d-64d96b339ab0"
      },
      "source": [
        "np.round(playway_values.max(axis=0), 2)"
      ],
      "execution_count": null,
      "outputs": [
        {
          "output_type": "execute_result",
          "data": {
            "text/plain": [
              "array([   344. ,    344. ,    320. ,    340.5, 100412. ])"
            ]
          },
          "metadata": {
            "tags": []
          },
          "execution_count": 11
        }
      ]
    },
    {
      "cell_type": "markdown",
      "metadata": {
        "id": "Bwir-gg7HBmJ"
      },
      "source": [
        "Calculate the difference between the maximum and minimum value for each column."
      ]
    },
    {
      "cell_type": "code",
      "metadata": {
        "id": "xXeaKBI8HDNn",
        "colab": {
          "base_uri": "https://localhost:8080/",
          "height": 33
        },
        "outputId": "f47962cb-43db-4949-d286-8c54eeb25cba"
      },
      "source": [
        "playway_values.max(axis=0) - playway_values.min(axis=0)"
      ],
      "execution_count": null,
      "outputs": [
        {
          "output_type": "execute_result",
          "data": {
            "text/plain": [
              "array([  139. ,   116. ,   124. ,   143.5, 90096. ])"
            ]
          },
          "metadata": {
            "tags": []
          },
          "execution_count": 12
        }
      ]
    },
    {
      "cell_type": "markdown",
      "metadata": {
        "id": "hOhqDRz618Tx"
      },
      "source": [
        "### <a name='7'></a> Exercise 97\n",
        "Using the _playway_values_ array, calculate the new column: the difference between the highest and lowest price.\n",
        "\n",
        "Steps:\n",
        "1. assign the calculated difference to the _max_min_diff_ variable\n",
        "2. add the calculated column (variable _max_min_diff_) to the array _playway_values_ at the end.\n",
        "\n",
        "__Expected result:__\n",
        "```\n",
        "array([[   305. ,    324.5,    283.5,    310. ,  64081. ,     41. ],\n",
        "       [   325.5,    340.5,    320. ,    340.5,  55496. ,     20.5],\n",
        "       [   324. ,    340.5,    315. ,    330. ,  36152. ,     25.5],\n",
        "       [   344. ,    344. ,    310. ,    315. ,  35992. ,     34. ],\n",
        "       [   306.5,    307. ,    291. ,    305. ,  32539. ,     16. ],\n",
        "       [   274. ,    291. ,    250. ,    258. ,  79402. ,     41. ],\n",
        "       [   278. ,    284.5,    256. ,    264. ,  35700. ,     28.5],\n",
        "       [   270. ,    270. ,    238.5,    245. ,  60445. ,     31.5],\n",
        "       [   218. ,    228. ,    196. ,    197. ,  94031. ,     32. ],\n",
        "       [   210. ,    229. ,    198.8,    211. , 100412. ,     30.2],\n",
        "       [   205. ,    248. ,    197.8,    240.5,  50659. ,     50.2],\n",
        "       [   245. ,    269. ,    232.5,    264. ,  99480. ,     36.5],\n",
        "       [   264. ,    280. ,    251. ,    270. ,  70136. ,     29. ],\n",
        "       [   267. ,    280. ,    267. ,    279.5,  30732. ,     13. ],\n",
        "       [   297.5,    307. ,    280. ,    280.5,  43426. ,     27. ],\n",
        "       [   274. ,    289. ,    258. ,    285. ,  37098. ,     31. ],\n",
        "       [   305. ,    309. ,    296.5,    309. ,  31939. ,     12.5],\n",
        "       [   313. ,    330. ,    295. ,    304. ,  46724. ,     35. ],\n",
        "       [   300. ,    309. ,    295.5,    300. ,  27213. ,     13.5],\n",
        "       [   302. ,    306.5,    290. ,    296. ,  13466. ,     16.5],\n",
        "       [   299. ,    300. ,    287. ,    300. ,  10316. ,     13. ],\n",
        "       [   302.5,    309. ,    302. ,    306.5,  15698. ,      7. ]])\n",
        "```"
      ]
    },
    {
      "cell_type": "code",
      "metadata": {
        "id": "jBt1TSCzHZql",
        "colab": {
          "base_uri": "https://localhost:8080/",
          "height": 383
        },
        "outputId": "2a86aa0b-c2e9-478c-b8b5-552c5d9bdc90"
      },
      "source": [
        "max_min_diff = playway_values[:, [1]] - playway_values[:, [2]]\n",
        "playway_values = np.concatenate((playway_values, max_min_diff), axis=1)\n",
        "playway_values"
      ],
      "execution_count": null,
      "outputs": [
        {
          "output_type": "execute_result",
          "data": {
            "text/plain": [
              "array([[   305. ,    324.5,    283.5,    310. ,  64081. ,     41. ],\n",
              "       [   325.5,    340.5,    320. ,    340.5,  55496. ,     20.5],\n",
              "       [   324. ,    340.5,    315. ,    330. ,  36152. ,     25.5],\n",
              "       [   344. ,    344. ,    310. ,    315. ,  35992. ,     34. ],\n",
              "       [   306.5,    307. ,    291. ,    305. ,  32539. ,     16. ],\n",
              "       [   274. ,    291. ,    250. ,    258. ,  79402. ,     41. ],\n",
              "       [   278. ,    284.5,    256. ,    264. ,  35700. ,     28.5],\n",
              "       [   270. ,    270. ,    238.5,    245. ,  60445. ,     31.5],\n",
              "       [   218. ,    228. ,    196. ,    197. ,  94031. ,     32. ],\n",
              "       [   210. ,    229. ,    198.8,    211. , 100412. ,     30.2],\n",
              "       [   205. ,    248. ,    197.8,    240.5,  50659. ,     50.2],\n",
              "       [   245. ,    269. ,    232.5,    264. ,  99480. ,     36.5],\n",
              "       [   264. ,    280. ,    251. ,    270. ,  70136. ,     29. ],\n",
              "       [   267. ,    280. ,    267. ,    279.5,  30732. ,     13. ],\n",
              "       [   297.5,    307. ,    280. ,    280.5,  43426. ,     27. ],\n",
              "       [   274. ,    289. ,    258. ,    285. ,  37098. ,     31. ],\n",
              "       [   305. ,    309. ,    296.5,    309. ,  31939. ,     12.5],\n",
              "       [   313. ,    330. ,    295. ,    304. ,  46724. ,     35. ],\n",
              "       [   300. ,    309. ,    295.5,    300. ,  27213. ,     13.5],\n",
              "       [   302. ,    306.5,    290. ,    296. ,  13466. ,     16.5],\n",
              "       [   299. ,    300. ,    287. ,    300. ,  10316. ,     13. ],\n",
              "       [   302.5,    309. ,    302. ,    306.5,  15698. ,      7. ]])"
            ]
          },
          "metadata": {
            "tags": []
          },
          "execution_count": 13
        }
      ]
    },
    {
      "cell_type": "markdown",
      "metadata": {
        "id": "TXUd_4631-gw"
      },
      "source": [
        "### <a name='8'></a> Exercise 98\n",
        "Extract rows from the array _playway_values_ where closing price is grater than 300.00."
      ]
    },
    {
      "cell_type": "code",
      "metadata": {
        "id": "A0ISsF4mJi7f",
        "colab": {
          "base_uri": "https://localhost:8080/",
          "height": 150
        },
        "outputId": "ad085b1f-6804-4293-cd84-d6d22795fa7c"
      },
      "source": [
        "playway_values[playway_values[:, 3] > 300.0]"
      ],
      "execution_count": null,
      "outputs": [
        {
          "output_type": "execute_result",
          "data": {
            "text/plain": [
              "array([[  305. ,   324.5,   283.5,   310. , 64081. ,    41. ],\n",
              "       [  325.5,   340.5,   320. ,   340.5, 55496. ,    20.5],\n",
              "       [  324. ,   340.5,   315. ,   330. , 36152. ,    25.5],\n",
              "       [  344. ,   344. ,   310. ,   315. , 35992. ,    34. ],\n",
              "       [  306.5,   307. ,   291. ,   305. , 32539. ,    16. ],\n",
              "       [  305. ,   309. ,   296.5,   309. , 31939. ,    12.5],\n",
              "       [  313. ,   330. ,   295. ,   304. , 46724. ,    35. ],\n",
              "       [  302.5,   309. ,   302. ,   306.5, 15698. ,     7. ]])"
            ]
          },
          "metadata": {
            "tags": []
          },
          "execution_count": 14
        }
      ]
    },
    {
      "cell_type": "markdown",
      "metadata": {
        "id": "tgI6xEn-2AQo"
      },
      "source": [
        "### <a name='9'></a> Exercise 99\n",
        "From the array _playway_values_ extract the first 10 rows with the highest volume value sorted in descending order."
      ]
    },
    {
      "cell_type": "code",
      "metadata": {
        "id": "tsy_PMZTJvJ5",
        "colab": {
          "base_uri": "https://localhost:8080/",
          "height": 183
        },
        "outputId": "3eaa1952-9cf6-47e6-d854-8ffa55a1f07f"
      },
      "source": [
        "playway_values[playway_values[:, 4].argsort()[::-1]][:10]"
      ],
      "execution_count": null,
      "outputs": [
        {
          "output_type": "execute_result",
          "data": {
            "text/plain": [
              "array([[   210. ,    229. ,    198.8,    211. , 100412. ,     30.2],\n",
              "       [   245. ,    269. ,    232.5,    264. ,  99480. ,     36.5],\n",
              "       [   218. ,    228. ,    196. ,    197. ,  94031. ,     32. ],\n",
              "       [   274. ,    291. ,    250. ,    258. ,  79402. ,     41. ],\n",
              "       [   264. ,    280. ,    251. ,    270. ,  70136. ,     29. ],\n",
              "       [   305. ,    324.5,    283.5,    310. ,  64081. ,     41. ],\n",
              "       [   270. ,    270. ,    238.5,    245. ,  60445. ,     31.5],\n",
              "       [   325.5,    340.5,    320. ,    340.5,  55496. ,     20.5],\n",
              "       [   205. ,    248. ,    197.8,    240.5,  50659. ,     50.2],\n",
              "       [   313. ,    330. ,    295. ,    304. ,  46724. ,     35. ]])"
            ]
          },
          "metadata": {
            "tags": []
          },
          "execution_count": 15
        }
      ]
    },
    {
      "cell_type": "markdown",
      "metadata": {
        "id": "wxhpf-uq2B1I"
      },
      "source": [
        "### <a name='10'></a> Exercise 100\n",
        "Add to the _playway_values_ array column that will return 1 in case the closing price is higher than the opening price and 0 opposite.\n",
        "\n",
        "__Expected result:__\n",
        "```\n",
        "array([[   305. ,    324.5,    283.5,    310. ,  64081. ,     41. ,      1. ],\n",
        "       [   325.5,    340.5,    320. ,    340.5,  55496. ,     20.5,      1. ],\n",
        "       [   324. ,    340.5,    315. ,    330. ,  36152. ,     25.5,      1. ],\n",
        "       [   344. ,    344. ,    310. ,    315. ,  35992. ,     34. ,      0. ],\n",
        "       [   306.5,    307. ,    291. ,    305. ,  32539. ,     16. ,      0. ],\n",
        "       [   274. ,    291. ,    250. ,    258. ,  79402. ,     41. ,      0. ],\n",
        "       [   278. ,    284.5,    256. ,    264. ,  35700. ,     28.5,      0. ],\n",
        "       [   270. ,    270. ,    238.5,    245. ,  60445. ,     31.5,      0. ],\n",
        "       [   218. ,    228. ,    196. ,    197. ,  94031. ,     32. ,      0. ],\n",
        "       [   210. ,    229. ,    198.8,    211. , 100412. ,     30.2,      1. ],\n",
        "       [   205. ,    248. ,    197.8,    240.5,  50659. ,     50.2,      1. ],\n",
        "       [   245. ,    269. ,    232.5,    264. ,  99480. ,     36.5,      1. ],\n",
        "       [   264. ,    280. ,    251. ,    270. ,  70136. ,     29. ,      1. ],\n",
        "       [   267. ,    280. ,    267. ,    279.5,  30732. ,     13. ,      1. ],\n",
        "       [   297.5,    307. ,    280. ,    280.5,  43426. ,     27. ,      0. ],\n",
        "       [   274. ,    289. ,    258. ,    285. ,  37098. ,     31. ,      1. ],\n",
        "       [   305. ,    309. ,    296.5,    309. ,  31939. ,     12.5,      1. ],\n",
        "       [   313. ,    330. ,    295. ,    304. ,  46724. ,     35. ,      0. ],\n",
        "       [   300. ,    309. ,    295.5,    300. ,  27213. ,     13.5,      0. ],\n",
        "       [   302. ,    306.5,    290. ,    296. ,  13466. ,     16.5,      0. ],\n",
        "       [   299. ,    300. ,    287. ,    300. ,  10316. ,     13. ,      1. ],\n",
        "       [   302.5,    309. ,    302. ,    306.5,  15698. ,      7. ,      1. ]])\n",
        "```"
      ]
    },
    {
      "cell_type": "code",
      "metadata": {
        "id": "YFc0KW6URsuc",
        "colab": {
          "base_uri": "https://localhost:8080/",
          "height": 383
        },
        "outputId": "47e74241-1278-43c0-9b68-7be8fd5c9f49"
      },
      "source": [
        "flag = playway_values[:, [0]] < playway_values[:, [3]]\n",
        "flag = flag.astype(int)\n",
        "playway_values = np.concatenate((playway_values, flag), axis=1)\n",
        "playway_values"
      ],
      "execution_count": null,
      "outputs": [
        {
          "output_type": "execute_result",
          "data": {
            "text/plain": [
              "array([[   305. ,    324.5,    283.5,    310. ,  64081. ,     41. ,      1. ],\n",
              "       [   325.5,    340.5,    320. ,    340.5,  55496. ,     20.5,      1. ],\n",
              "       [   324. ,    340.5,    315. ,    330. ,  36152. ,     25.5,      1. ],\n",
              "       [   344. ,    344. ,    310. ,    315. ,  35992. ,     34. ,      0. ],\n",
              "       [   306.5,    307. ,    291. ,    305. ,  32539. ,     16. ,      0. ],\n",
              "       [   274. ,    291. ,    250. ,    258. ,  79402. ,     41. ,      0. ],\n",
              "       [   278. ,    284.5,    256. ,    264. ,  35700. ,     28.5,      0. ],\n",
              "       [   270. ,    270. ,    238.5,    245. ,  60445. ,     31.5,      0. ],\n",
              "       [   218. ,    228. ,    196. ,    197. ,  94031. ,     32. ,      0. ],\n",
              "       [   210. ,    229. ,    198.8,    211. , 100412. ,     30.2,      1. ],\n",
              "       [   205. ,    248. ,    197.8,    240.5,  50659. ,     50.2,      1. ],\n",
              "       [   245. ,    269. ,    232.5,    264. ,  99480. ,     36.5,      1. ],\n",
              "       [   264. ,    280. ,    251. ,    270. ,  70136. ,     29. ,      1. ],\n",
              "       [   267. ,    280. ,    267. ,    279.5,  30732. ,     13. ,      1. ],\n",
              "       [   297.5,    307. ,    280. ,    280.5,  43426. ,     27. ,      0. ],\n",
              "       [   274. ,    289. ,    258. ,    285. ,  37098. ,     31. ,      1. ],\n",
              "       [   305. ,    309. ,    296.5,    309. ,  31939. ,     12.5,      1. ],\n",
              "       [   313. ,    330. ,    295. ,    304. ,  46724. ,     35. ,      0. ],\n",
              "       [   300. ,    309. ,    295.5,    300. ,  27213. ,     13.5,      0. ],\n",
              "       [   302. ,    306.5,    290. ,    296. ,  13466. ,     16.5,      0. ],\n",
              "       [   299. ,    300. ,    287. ,    300. ,  10316. ,     13. ,      1. ],\n",
              "       [   302.5,    309. ,    302. ,    306.5,  15698. ,      7. ,      1. ]])"
            ]
          },
          "metadata": {
            "tags": []
          },
          "execution_count": 16
        }
      ]
    },
    {
      "cell_type": "code",
      "metadata": {
        "id": "CSylWnxSJ6Ds"
      },
      "source": [],
      "execution_count": null,
      "outputs": []
    }
  ]
}