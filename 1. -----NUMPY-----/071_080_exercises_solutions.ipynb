{
  "nbformat": 4,
  "nbformat_minor": 0,
  "metadata": {
    "colab": {
      "provenance": []
    },
    "kernelspec": {
      "name": "python3",
      "display_name": "Python 3"
    }
  },
  "cells": [
    {
      "cell_type": "markdown",
      "metadata": {
        "id": "WLEgCW5F1hho"
      },
      "source": [
        "## Numpy\n",
        "\n",
        "### Table of contents:\n",
        "* [Import biblioteki](#0)\n",
        "* [Exercise 71](#1)\n",
        "* [Exercise 72](#2)\n",
        "* [Exercise 73](#3)\n",
        "* [Exercise 74](#4)\n",
        "* [Exercise 75](#5)\n",
        "* [Exercise 76](#6)\n",
        "* [Exercise 77](#7)\n",
        "* [Exercise 78](#8)\n",
        "* [Exercise 79](#9)\n",
        "* [Exercise 80](#10)"
      ]
    },
    {
      "cell_type": "markdown",
      "metadata": {
        "id": "zeLOLmTj1kBM"
      },
      "source": [
        "### <a name='0'></a> Import of libraries"
      ]
    },
    {
      "cell_type": "code",
      "metadata": {
        "id": "HXMB7SMe1Wnz",
        "colab": {
          "base_uri": "https://localhost:8080/",
          "height": 33
        },
        "outputId": "8d838922-8d67-41f5-9a92-61a2a4bfcf38"
      },
      "source": [
        "import numpy as np\n",
        "\n",
        "np.random.seed(42)\n",
        "np.__version__"
      ],
      "execution_count": null,
      "outputs": [
        {
          "output_type": "execute_result",
          "data": {
            "text/plain": [
              "'1.18.4'"
            ]
          },
          "metadata": {
            "tags": []
          },
          "execution_count": 1
        }
      ]
    },
    {
      "cell_type": "markdown",
      "metadata": {
        "id": "cyc70pMe1oCg"
      },
      "source": [
        "### <a name='1'></a> Exercise 71\n",
        "The following $ A $ array is given:\n",
        "```\n",
        "A = np.array([['id', 'price'],\n",
        "              ['001', 14.99],\n",
        "              ['002', 4.99],\n",
        "              ['003', 7.99],\n",
        "              ['004', 2.49],\n",
        "              ['005', 1.49]])\n",
        "```\n",
        "From the second row of the $ A $ array, randomly shuffle the rows in the array.\n",
        "\n",
        "__Tip:__ Use the _np.random.shuffle()_ function.\n"
      ]
    },
    {
      "cell_type": "code",
      "metadata": {
        "id": "HgwIttAJzJr3",
        "colab": {
          "base_uri": "https://localhost:8080/",
          "height": 116
        },
        "outputId": "98798fb3-f815-425d-8908-80e0d3f4e965"
      },
      "source": [
        "A = np.array([['id', 'price'],\n",
        "              ['001', 14.99],\n",
        "              ['002', 4.99],\n",
        "              ['003', 7.99],\n",
        "              ['004', 2.49],\n",
        "              ['005', 1.49]])\n",
        "\n",
        "np.random.shuffle(A[1:])\n",
        "A"
      ],
      "execution_count": null,
      "outputs": [
        {
          "output_type": "execute_result",
          "data": {
            "text/plain": [
              "array([['id', 'price'],\n",
              "       ['002', '4.99'],\n",
              "       ['005', '1.49'],\n",
              "       ['003', '7.99'],\n",
              "       ['001', '14.99'],\n",
              "       ['004', '2.49']], dtype='<U5')"
            ]
          },
          "metadata": {
            "tags": []
          },
          "execution_count": 2
        }
      ]
    },
    {
      "cell_type": "markdown",
      "metadata": {
        "id": "J9pY1rtr1sC0"
      },
      "source": [
        "### <a name='2'></a> Exercise 72\n",
        "The following array $ A $ is given:\n",
        "\n",
        "```\n",
        "A = np.array([0.2, 0.15, 0.1, 0.3, 0.2, 0.05])\n",
        "```\n",
        "Return an array of indexes that will sort the array $ A $ in ascending order.\n",
        "\n",
        "__Expected result:__\n",
        "\n",
        "```\n",
        "array([5, 2, 1, 0, 4, 3])\n",
        "```\n",
        "__Tip:__ Use the _np.argsort()_ function.\n"
      ]
    },
    {
      "cell_type": "code",
      "metadata": {
        "id": "KiBwSOtRzcmv",
        "colab": {
          "base_uri": "https://localhost:8080/",
          "height": 33
        },
        "outputId": "29a75a2a-fe6c-4a11-ee88-d9c7926f2f58"
      },
      "source": [
        "A = np.array([0.2, 0.15, 0.1, 0.3, 0.2, 0.05])\n",
        "\n",
        "np.argsort(A)"
      ],
      "execution_count": null,
      "outputs": [
        {
          "output_type": "execute_result",
          "data": {
            "text/plain": [
              "array([5, 2, 1, 0, 4, 3])"
            ]
          },
          "metadata": {
            "tags": []
          },
          "execution_count": 3
        }
      ]
    },
    {
      "cell_type": "markdown",
      "metadata": {
        "id": "XQLYT2m11wVG"
      },
      "source": [
        "### <a name='3'></a> Exercise 73\n",
        "\n",
        "The following array $ A $ is given:\n",
        "```\n",
        "A = np.random.randn(10, 8)\n",
        "```\n",
        "Round the values of this array to three decimal places.\n",
        "\n",
        "__Tip:__ Use the function _np.round()_.\n"
      ]
    },
    {
      "cell_type": "code",
      "metadata": {
        "id": "n6ESDWCszmuq",
        "colab": {
          "base_uri": "https://localhost:8080/",
          "height": 183
        },
        "outputId": "a2f50f63-e3cd-4dca-fb51-8c5a3881d852"
      },
      "source": [
        "A = np.random.randn(10, 8)\n",
        "\n",
        "np.round(A, decimals=3)"
      ],
      "execution_count": null,
      "outputs": [
        {
          "output_type": "execute_result",
          "data": {
            "text/plain": [
              "array([[ 0.474,  1.368, -0.917, -0.124, -2.011, -0.493,  0.393, -0.929],\n",
              "       [ 0.08 , -0.16 ,  0.022, -0.428, -0.532, -0.117,  0.222, -0.768],\n",
              "       [ 0.142, -0.035,  1.134, -0.105, -0.525,  1.913, -2.027,  1.119],\n",
              "       [ 0.779, -1.101,  1.13 ,  0.373, -0.386, -1.159,  0.566, -0.704],\n",
              "       [-1.378, -0.353, -0.461,  0.067, -0.176,  1.201,  0.698, -0.172],\n",
              "       [-0.907,  1.189,  0.786,  2.656,  0.263,  1.642,  0.461,  0.086],\n",
              "       [-1.51 ,  0.722, -0.843, -0.513, -0.044, -0.275, -1.563, -0.796],\n",
              "       [ 0.931,  0.678,  0.698,  0.174,  0.662,  0.241, -0.168,  1.165],\n",
              "       [-0.246, -0.77 ,  1.212,  1.233, -1.574,  0.638, -2.044,  1.069],\n",
              "       [-0.934,  0.784, -0.615,  0.333, -1.381, -0.281, -0.06 ,  0.961]])"
            ]
          },
          "metadata": {
            "tags": []
          },
          "execution_count": 4
        }
      ]
    },
    {
      "cell_type": "markdown",
      "metadata": {
        "id": "4xTKSUzg10MK"
      },
      "source": [
        "### <a name='4'></a> Exercise 74\n",
        "Determine the roots of the polynomial:\n",
        "* $W(x) = 4x^2 + 5x + 1$\n",
        "\n",
        "Check the solution.\n",
        "\n",
        "__Tip:__ Use the _np.roots()_ and _np.polyval()_ functions."
      ]
    },
    {
      "cell_type": "code",
      "metadata": {
        "id": "ciQ9bE-tz4KR",
        "colab": {
          "base_uri": "https://localhost:8080/",
          "height": 33
        },
        "outputId": "0cf5e588-145f-4755-dab9-c85fb907ca61"
      },
      "source": [
        "W = np.array([4, 5, 1])\n",
        "np.roots(W)"
      ],
      "execution_count": null,
      "outputs": [
        {
          "output_type": "execute_result",
          "data": {
            "text/plain": [
              "array([-1.  , -0.25])"
            ]
          },
          "metadata": {
            "tags": []
          },
          "execution_count": 5
        }
      ]
    },
    {
      "cell_type": "code",
      "metadata": {
        "id": "B95fPsxmz5X5",
        "colab": {
          "base_uri": "https://localhost:8080/",
          "height": 50
        },
        "outputId": "5c6b767f-256e-4da8-eb4b-e531c844160d"
      },
      "source": [
        "print(np.polyval(W, -1))\n",
        "print(np.polyval(W, -0.25))"
      ],
      "execution_count": null,
      "outputs": [
        {
          "output_type": "stream",
          "text": [
            "0\n",
            "0.0\n"
          ],
          "name": "stdout"
        }
      ]
    },
    {
      "cell_type": "markdown",
      "metadata": {
        "id": "o3HKIKlP15Ro"
      },
      "source": [
        "### <a name='5'></a> Exercise 75\n",
        "Determine the roots of polynomials:\n",
        "* $Q(x) = 2x^3 + 4x^2 -5x + 1$\n",
        "* $R(x) = 2x^3 -5x + 1$\n",
        "\n",
        "__Tip:__ Use the _np.roots()_ function.\n"
      ]
    },
    {
      "cell_type": "code",
      "metadata": {
        "id": "M1rA_HU50DQU",
        "colab": {
          "base_uri": "https://localhost:8080/",
          "height": 33
        },
        "outputId": "37ee894a-9183-4a33-b4e2-0bc20ec91817"
      },
      "source": [
        "Q = np.array([2, 4, -5, 1])\n",
        "np.roots(Q)"
      ],
      "execution_count": null,
      "outputs": [
        {
          "output_type": "execute_result",
          "data": {
            "text/plain": [
              "array([-2.91610583,  0.65388685,  0.26221898])"
            ]
          },
          "metadata": {
            "tags": []
          },
          "execution_count": 7
        }
      ]
    },
    {
      "cell_type": "code",
      "metadata": {
        "id": "d0WMpvlC0EYu",
        "colab": {
          "base_uri": "https://localhost:8080/",
          "height": 33
        },
        "outputId": "2ff1e022-824c-4fe7-d0d9-298395a66f31"
      },
      "source": [
        "R = np.array([2, 0, -5, 1])\n",
        "np.roots(R)"
      ],
      "execution_count": null,
      "outputs": [
        {
          "output_type": "execute_result",
          "data": {
            "text/plain": [
              "array([-1.67298165,  1.46961743,  0.20336421])"
            ]
          },
          "metadata": {
            "tags": []
          },
          "execution_count": 8
        }
      ]
    },
    {
      "cell_type": "markdown",
      "metadata": {
        "id": "PunXd_Ey16so"
      },
      "source": [
        "### <a name='6'></a> Exercise 76\n",
        "Polynomials are given:\n",
        "* $W(x) = 4x^2 + 5x + 1$\n",
        "* $Q(x) = 2x^3 + 4x^2 -5x + 1$\n"
      ]
    },
    {
      "cell_type": "code",
      "metadata": {
        "id": "rq_SzME10KXX"
      },
      "source": [
        "W = np.array([4, 5, 1])\n",
        "Q = np.array([2, 4, -5, 1])"
      ],
      "execution_count": null,
      "outputs": []
    },
    {
      "cell_type": "markdown",
      "metadata": {
        "id": "N6cZ92NR0Nl5"
      },
      "source": [
        "Perform:\n",
        "* $ W (x) + Q (x) $"
      ]
    },
    {
      "cell_type": "code",
      "metadata": {
        "id": "xCQzPpzp0Qkj",
        "colab": {
          "base_uri": "https://localhost:8080/",
          "height": 33
        },
        "outputId": "02470e33-1135-430d-f1c5-d49caf04f737"
      },
      "source": [
        "np.polyadd(W, Q)"
      ],
      "execution_count": null,
      "outputs": [
        {
          "output_type": "execute_result",
          "data": {
            "text/plain": [
              "array([2, 8, 0, 2])"
            ]
          },
          "metadata": {
            "tags": []
          },
          "execution_count": 10
        }
      ]
    },
    {
      "cell_type": "markdown",
      "metadata": {
        "id": "Ykk5myN_0RzN"
      },
      "source": [
        "* $W(x) - Q(x)$\n"
      ]
    },
    {
      "cell_type": "code",
      "metadata": {
        "id": "YZjEl1un0S9x",
        "colab": {
          "base_uri": "https://localhost:8080/",
          "height": 33
        },
        "outputId": "4e3507b7-9a9d-4cbb-9224-b1f43a5740c6"
      },
      "source": [
        "np.polysub(W, Q)"
      ],
      "execution_count": null,
      "outputs": [
        {
          "output_type": "execute_result",
          "data": {
            "text/plain": [
              "array([-2,  0, 10,  0])"
            ]
          },
          "metadata": {
            "tags": []
          },
          "execution_count": 11
        }
      ]
    },
    {
      "cell_type": "markdown",
      "metadata": {
        "id": "LhAWWJjL0Uen"
      },
      "source": [
        "* $W(x) * Q(x)$\n"
      ]
    },
    {
      "cell_type": "code",
      "metadata": {
        "id": "hx7SGBax0V22",
        "colab": {
          "base_uri": "https://localhost:8080/",
          "height": 33
        },
        "outputId": "8fdb0cec-5a5c-4552-87a3-18adc06f0fef"
      },
      "source": [
        "np.polymul(W, Q)"
      ],
      "execution_count": null,
      "outputs": [
        {
          "output_type": "execute_result",
          "data": {
            "text/plain": [
              "array([  8,  26,   2, -17,   0,   1])"
            ]
          },
          "metadata": {
            "tags": []
          },
          "execution_count": 12
        }
      ]
    },
    {
      "cell_type": "markdown",
      "metadata": {
        "id": "oS3Qswrl0XRp"
      },
      "source": [
        "* $W(x) + 2Q(x)$"
      ]
    },
    {
      "cell_type": "code",
      "metadata": {
        "id": "GskzlXBy0Ymo",
        "colab": {
          "base_uri": "https://localhost:8080/",
          "height": 33
        },
        "outputId": "34c1a24d-05c2-404f-9fd1-e08f049cbdcb"
      },
      "source": [
        "np.polyadd(W, 2 * Q)"
      ],
      "execution_count": null,
      "outputs": [
        {
          "output_type": "execute_result",
          "data": {
            "text/plain": [
              "array([ 4, 12, -5,  3])"
            ]
          },
          "metadata": {
            "tags": []
          },
          "execution_count": 13
        }
      ]
    },
    {
      "cell_type": "markdown",
      "metadata": {
        "id": "hOhqDRz618Tx"
      },
      "source": [
        "### <a name='7'></a> Exercise 77\n",
        "The array below is given:\n",
        "\n",
        "```\n",
        "A = np.array([[-4, 3, 0, 1, -5],\n",
        "              [6, -4, -2, 1, 3]])\n",
        "```\n",
        "Use the sign function for the array $ A $. As a reminder, the function works as follows: returns -1 for negative values, zero for zero, and 1 for positive values.\n",
        "\n",
        "__Expected result:__\n",
        "\n",
        "```\n",
        "array([[-1,  1,  0,  1, -1],\n",
        "       [ 1, -1, -1,  1,  1]])\n",
        "```\n",
        "__Tip:__ Use the _np.sign()_ function."
      ]
    },
    {
      "cell_type": "code",
      "metadata": {
        "id": "B2kbHQy10ytn",
        "colab": {
          "base_uri": "https://localhost:8080/",
          "height": 50
        },
        "outputId": "5b9e277d-4774-4469-c804-f68300e7138d"
      },
      "source": [
        "A = np.array([[-4, 3, 0, 1, -5],\n",
        "              [6, -4, -2, 1, 3]])\n",
        "\n",
        "np.sign(A)"
      ],
      "execution_count": null,
      "outputs": [
        {
          "output_type": "execute_result",
          "data": {
            "text/plain": [
              "array([[-1,  1,  0,  1, -1],\n",
              "       [ 1, -1, -1,  1,  1]])"
            ]
          },
          "metadata": {
            "tags": []
          },
          "execution_count": 14
        }
      ]
    },
    {
      "cell_type": "markdown",
      "metadata": {
        "id": "TXUd_4631-gw"
      },
      "source": [
        "### <a name='8'></a> Exercise 78\n",
        "Using the _np.arange()_ function, generate the following array:\n",
        "\n",
        "```\n",
        "array(['2021-01-01', '2021-01-02', '2021-01-03', '2021-01-04',\n",
        "       '2021-01-05', '2021-01-06', '2021-01-07', '2021-01-08',\n",
        "       '2021-01-09', '2021-01-10', '2021-01-11', '2021-01-12',\n",
        "       '2021-01-13', '2021-01-14', '2021-01-15', '2021-01-16',\n",
        "       '2021-01-17', '2021-01-18', '2021-01-19', '2021-01-20',\n",
        "       '2021-01-21', '2021-01-22', '2021-01-23', '2021-01-24',\n",
        "       '2021-01-25', '2021-01-26', '2021-01-27', '2021-01-28',\n",
        "       '2021-01-29', '2021-01-30', '2021-01-31'], dtype='datetime64[D]')\n",
        "```\n"
      ]
    },
    {
      "cell_type": "code",
      "metadata": {
        "id": "3yNQkyOG05JQ",
        "colab": {
          "base_uri": "https://localhost:8080/",
          "height": 150
        },
        "outputId": "7e8acbd5-0f89-47c9-9648-021893cf3c8e"
      },
      "source": [
        "np.arange('2021-01-01', '2021-02-01', dtype='datetime64[D]')"
      ],
      "execution_count": null,
      "outputs": [
        {
          "output_type": "execute_result",
          "data": {
            "text/plain": [
              "array(['2021-01-01', '2021-01-02', '2021-01-03', '2021-01-04',\n",
              "       '2021-01-05', '2021-01-06', '2021-01-07', '2021-01-08',\n",
              "       '2021-01-09', '2021-01-10', '2021-01-11', '2021-01-12',\n",
              "       '2021-01-13', '2021-01-14', '2021-01-15', '2021-01-16',\n",
              "       '2021-01-17', '2021-01-18', '2021-01-19', '2021-01-20',\n",
              "       '2021-01-21', '2021-01-22', '2021-01-23', '2021-01-24',\n",
              "       '2021-01-25', '2021-01-26', '2021-01-27', '2021-01-28',\n",
              "       '2021-01-29', '2021-01-30', '2021-01-31'], dtype='datetime64[D]')"
            ]
          },
          "metadata": {
            "tags": []
          },
          "execution_count": 15
        }
      ]
    },
    {
      "cell_type": "markdown",
      "metadata": {
        "id": "tgI6xEn-2AQo"
      },
      "source": [
        "### <a name='9'></a> Exercise 79\n",
        "\n",
        "Using the _np.arange()_ function, generate the following array:\n",
        "\n",
        "```\n",
        "array([['2021-01', '2021-02', '2021-03'],\n",
        "       ['2021-04', '2021-05', '2021-06'],\n",
        "       ['2021-07', '2021-08', '2021-09'],\n",
        "       ['2021-10', '2021-11', '2021-12']], dtype='datetime64[M]')\n",
        "```\n"
      ]
    },
    {
      "cell_type": "code",
      "metadata": {
        "id": "3A5SIkof0-lq",
        "colab": {
          "base_uri": "https://localhost:8080/",
          "height": 83
        },
        "outputId": "80d67da5-1d2d-4b85-90c4-1d9e21324772"
      },
      "source": [
        "A = np.arange('2021-01', '2022-01', dtype='datetime64[M]')\n",
        "A = A.reshape(-1, 3)\n",
        "A"
      ],
      "execution_count": null,
      "outputs": [
        {
          "output_type": "execute_result",
          "data": {
            "text/plain": [
              "array([['2021-01', '2021-02', '2021-03'],\n",
              "       ['2021-04', '2021-05', '2021-06'],\n",
              "       ['2021-07', '2021-08', '2021-09'],\n",
              "       ['2021-10', '2021-11', '2021-12']], dtype='datetime64[M]')"
            ]
          },
          "metadata": {
            "tags": []
          },
          "execution_count": 16
        }
      ]
    },
    {
      "cell_type": "markdown",
      "metadata": {
        "id": "wxhpf-uq2B1I"
      },
      "source": [
        "### <a name='10'></a> Exercise 80\n",
        "Using the _np.datetime64()_ function, generate today's date."
      ]
    },
    {
      "cell_type": "code",
      "metadata": {
        "id": "YFc0KW6URsuc",
        "colab": {
          "base_uri": "https://localhost:8080/",
          "height": 33
        },
        "outputId": "ada0648b-87d8-4dc2-ecaf-82018638ed6a"
      },
      "source": [
        "np.datetime64('today')"
      ],
      "execution_count": null,
      "outputs": [
        {
          "output_type": "execute_result",
          "data": {
            "text/plain": [
              "numpy.datetime64('2020-05-18')"
            ]
          },
          "metadata": {
            "tags": []
          },
          "execution_count": 17
        }
      ]
    },
    {
      "cell_type": "code",
      "metadata": {
        "id": "I5IYzt7H1Ddx"
      },
      "source": [],
      "execution_count": null,
      "outputs": []
    }
  ]
}