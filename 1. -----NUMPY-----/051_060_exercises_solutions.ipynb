{
  "nbformat": 4,
  "nbformat_minor": 0,
  "metadata": {
    "colab": {
      "provenance": []
    },
    "kernelspec": {
      "name": "python3",
      "display_name": "Python 3"
    }
  },
  "cells": [
    {
      "cell_type": "markdown",
      "metadata": {
        "id": "WLEgCW5F1hho"
      },
      "source": [
        "## Numpy\n",
        "\n",
        "### Table of contents:\n",
        "* [Import biblioteki](#0)\n",
        "* [Exercise 51](#1)\n",
        "* [Exercise 52](#2)\n",
        "* [Exercise 53](#3)\n",
        "* [Exercise 54](#4)\n",
        "* [Exercise 55](#5)\n",
        "* [Exercise 56](#6)\n",
        "* [Exercise 57](#7)\n",
        "* [Exercise 58](#8)\n",
        "* [Exercise 59](#9)\n",
        "* [Exercise 60](#10)"
      ]
    },
    {
      "cell_type": "markdown",
      "metadata": {
        "id": "zeLOLmTj1kBM"
      },
      "source": [
        "### <a name='0'></a> Import of libraries"
      ]
    },
    {
      "cell_type": "code",
      "metadata": {
        "id": "HXMB7SMe1Wnz",
        "outputId": "ccc06d79-c523-4098-8395-c26b3bc1babd",
        "colab": {
          "base_uri": "https://localhost:8080/",
          "height": 34
        }
      },
      "source": [
        "import numpy as np\n",
        "\n",
        "np.__version__"
      ],
      "execution_count": null,
      "outputs": [
        {
          "output_type": "execute_result",
          "data": {
            "text/plain": [
              "'1.18.4'"
            ]
          },
          "metadata": {
            "tags": []
          },
          "execution_count": 1
        }
      ]
    },
    {
      "cell_type": "markdown",
      "metadata": {
        "id": "cyc70pMe1oCg"
      },
      "source": [
        "### <a name='1'></a> Exercise 51\n",
        "Two arrays $ A $ and $ B $ are given below:\n",
        "\n",
        "```\n",
        "A = np.array([[3, 4, 5],\n",
        "              [8, 3, 1]])\n",
        "B = np.array([[0, 5, 2],\n",
        "              [4, 2, 1]])\n",
        "```\n",
        "* Concatenate these arrays as follows:\n",
        "\n",
        "```\n",
        "array([[3, 4, 5],\n",
        "       [8, 3, 1],\n",
        "       [0, 5, 2],\n",
        "       [4, 2, 1]])\n",
        "```\n",
        "\n",
        "__Tip:__ Use the _np.concatenate()_ function."
      ]
    },
    {
      "cell_type": "code",
      "metadata": {
        "id": "5MXU6p-oTHHs",
        "outputId": "88d48e9a-7e8f-4b58-95c6-33299cb40f93",
        "colab": {
          "base_uri": "https://localhost:8080/",
          "height": 85
        }
      },
      "source": [
        "A = np.array([[3, 4, 5],\n",
        "              [8, 3, 1]])\n",
        "B = np.array([[0, 5, 2],\n",
        "              [4, 2, 1]])\n",
        "\n",
        "np.concatenate((A, B), axis=0)"
      ],
      "execution_count": null,
      "outputs": [
        {
          "output_type": "execute_result",
          "data": {
            "text/plain": [
              "array([[3, 4, 5],\n",
              "       [8, 3, 1],\n",
              "       [0, 5, 2],\n",
              "       [4, 2, 1]])"
            ]
          },
          "metadata": {
            "tags": []
          },
          "execution_count": 2
        }
      ]
    },
    {
      "cell_type": "markdown",
      "metadata": {
        "id": "G1YmiO8PTO3g"
      },
      "source": [
        "* Concatenate these arrays as follows:\n",
        "\n",
        "```\n",
        "array([[3, 4, 5, 0, 5, 2],\n",
        "       [8, 3, 1, 4, 2, 1]])\n",
        "```\n",
        "__Tip:__ Use the _np.concatenate()_ function."
      ]
    },
    {
      "cell_type": "code",
      "metadata": {
        "id": "0cnB_nezTTxN",
        "outputId": "dc29ddc4-068b-40e4-cf4e-8edaec56ea6a",
        "colab": {
          "base_uri": "https://localhost:8080/",
          "height": 51
        }
      },
      "source": [
        "np.concatenate((A, B), axis=1)"
      ],
      "execution_count": null,
      "outputs": [
        {
          "output_type": "execute_result",
          "data": {
            "text/plain": [
              "array([[3, 4, 5, 0, 5, 2],\n",
              "       [8, 3, 1, 4, 2, 1]])"
            ]
          },
          "metadata": {
            "tags": []
          },
          "execution_count": 3
        }
      ]
    },
    {
      "cell_type": "markdown",
      "metadata": {
        "id": "J9pY1rtr1sC0"
      },
      "source": [
        "### <a name='2'></a> Exercise 52\n",
        "The first array is given containing the data (_data_) and the second array containing the target class (_target_) for the given row:\n",
        "\n",
        "```\n",
        "data = np.array([[4.3, 4.2],\n",
        "                 [3.1, 3.6]])\n",
        "target = np.array([[0],\n",
        "                   [1]])\n",
        "```"
      ]
    },
    {
      "cell_type": "markdown",
      "metadata": {
        "id": "ymdZWtG_TnS8"
      },
      "source": [
        "Concatenate these arrays into one as shown below:\n",
        "\n",
        "```\n",
        "array([[4.3, 4.2, 0. ],\n",
        "       [3.1, 3.6, 1. ]])\n",
        "```"
      ]
    },
    {
      "cell_type": "code",
      "metadata": {
        "id": "yjMRep8ATq4C",
        "outputId": "95a6df7f-f947-4820-d73e-e878cbef0c27",
        "colab": {
          "base_uri": "https://localhost:8080/",
          "height": 51
        }
      },
      "source": [
        "data = np.array([[4.3, 4.2],\n",
        "                 [3.1, 3.6]])\n",
        "target = np.array([[0],\n",
        "                   [1]])\n",
        "\n",
        "np.concatenate((data, target), axis=1)"
      ],
      "execution_count": null,
      "outputs": [
        {
          "output_type": "execute_result",
          "data": {
            "text/plain": [
              "array([[4.3, 4.2, 0. ],\n",
              "       [3.1, 3.6, 1. ]])"
            ]
          },
          "metadata": {
            "tags": []
          },
          "execution_count": 4
        }
      ]
    },
    {
      "cell_type": "markdown",
      "metadata": {
        "id": "XQLYT2m11wVG"
      },
      "source": [
        "### <a name='3'></a> Exercise 53\n",
        "The following three one-dimensional arrays are given:\n",
        "```\n",
        "feature1 = np.array([1.6, 0.9, 2.2])\n",
        "feature2 = np.array([0.4, 1.3, 3.2])\n",
        "feature3 = np.array([1.4, 0.3, 1.2])\n",
        "```\n",
        "Transform each of these arrays into a column and concatenate them into one large array.\n",
        "\n",
        "__Expected result:__\n",
        "```\n",
        "array([[1.6, 0.4, 1.4],\n",
        "       [0.9, 1.3, 0.3],\n",
        "       [2.2, 3.2, 1.2]])\n",
        "```\n",
        "__Tip:__ Use the function _np.column_stack()_.\n"
      ]
    },
    {
      "cell_type": "code",
      "metadata": {
        "id": "F83u7wvHT7au",
        "outputId": "a1a721b8-9053-4223-afef-34421b0ab3af",
        "colab": {
          "base_uri": "https://localhost:8080/",
          "height": 68
        }
      },
      "source": [
        "feature1 = np.array([1.6, 0.9, 2.2])\n",
        "feature2 = np.array([0.4, 1.3, 3.2])\n",
        "feature3 = np.array([1.4, 0.3, 1.2])\n",
        "\n",
        "np.column_stack((feature1, feature2, feature3))"
      ],
      "execution_count": null,
      "outputs": [
        {
          "output_type": "execute_result",
          "data": {
            "text/plain": [
              "array([[1.6, 0.4, 1.4],\n",
              "       [0.9, 1.3, 0.3],\n",
              "       [2.2, 3.2, 1.2]])"
            ]
          },
          "metadata": {
            "tags": []
          },
          "execution_count": 5
        }
      ]
    },
    {
      "cell_type": "markdown",
      "metadata": {
        "id": "4xTKSUzg10MK"
      },
      "source": [
        "### <a name='4'></a> Exercise 54\n",
        "The following two-dimensional array is given:\n",
        "```\n",
        "A = np.random.randint(low=0, high=7, size=(5, 8))\n",
        "A[:, :2] = 0\n",
        "A[:, -2:] = 1\n",
        "A\n",
        "```\n",
        "```\n",
        "array([[0, 0, 4, 6, 2, 4, 1, 1],\n",
        "       [0, 0, 6, 2, 2, 4, 1, 1],\n",
        "       [0, 0, 1, 3, 5, 5, 1, 1],\n",
        "       [0, 0, 3, 1, 5, 4, 1, 1],\n",
        "       [0, 0, 2, 6, 1, 3, 1, 1]])\n",
        "```\n",
        "Split an array into three parts so that the first two columns formed the first array $ A1 $, four consecutive second array $ A2 $ and the last two third array $ A3 $.\n",
        "\n",
        "__Tip:__ Use the function _np.split()_."
      ]
    },
    {
      "cell_type": "code",
      "metadata": {
        "id": "zXtgBT1sUZjf",
        "outputId": "3e055851-4230-4c76-a27a-ffdc4d7797f2",
        "colab": {
          "base_uri": "https://localhost:8080/",
          "height": 272
        }
      },
      "source": [
        "A = np.random.randint(low=0, high=7, size=(5, 8))\n",
        "A[:, :2] = 0\n",
        "A[:, -2:] = 1\n",
        "\n",
        "A1, A2, A3 = np.split(A, [2, 6], axis=1)\n",
        "print(A1)\n",
        "print(A2)\n",
        "print(A3)"
      ],
      "execution_count": null,
      "outputs": [
        {
          "output_type": "stream",
          "text": [
            "[[0 0]\n",
            " [0 0]\n",
            " [0 0]\n",
            " [0 0]\n",
            " [0 0]]\n",
            "[[0 2 6 4]\n",
            " [5 5 5 1]\n",
            " [6 6 2 3]\n",
            " [6 6 4 4]\n",
            " [0 6 1 4]]\n",
            "[[1 1]\n",
            " [1 1]\n",
            " [1 1]\n",
            " [1 1]\n",
            " [1 1]]\n"
          ],
          "name": "stdout"
        }
      ]
    },
    {
      "cell_type": "markdown",
      "metadata": {
        "id": "o3HKIKlP15Ro"
      },
      "source": [
        "### <a name='5'></a> Exercise 55\n",
        "The following numpy array $ A $ is given:\n",
        "\n",
        "```\n",
        "A = np.random.randint(low=0, high=2, size=(10, 6))\n",
        "```\n",
        "\n",
        "Calculate the total number of non-zero elements for this array.\n",
        "\n",
        "__Tip:__ Use the function _np.count_nonzero()_.\n"
      ]
    },
    {
      "cell_type": "code",
      "metadata": {
        "id": "cPCsc8WHU32T",
        "outputId": "01e913ab-bedb-40cd-9f02-65338d6dde5a",
        "colab": {
          "base_uri": "https://localhost:8080/",
          "height": 34
        }
      },
      "source": [
        "A = np.random.randint(low=0, high=2, size=(10, 6))\n",
        "\n",
        "np.count_nonzero(A)"
      ],
      "execution_count": null,
      "outputs": [
        {
          "output_type": "execute_result",
          "data": {
            "text/plain": [
              "31"
            ]
          },
          "metadata": {
            "tags": []
          },
          "execution_count": 7
        }
      ]
    },
    {
      "cell_type": "markdown",
      "metadata": {
        "id": "gYdn5cJqU9vh"
      },
      "source": [
        "Calculate the total number of non-zero elements for each row in this array.\n",
        "\n",
        "__Tip:__ Use the function _np.count_nonzero()_."
      ]
    },
    {
      "cell_type": "code",
      "metadata": {
        "id": "RXEd8gyGVBgC",
        "outputId": "17c9f44b-b03d-4986-b854-a9976f00d6cd",
        "colab": {
          "base_uri": "https://localhost:8080/",
          "height": 34
        }
      },
      "source": [
        "np.count_nonzero(A, axis=1)"
      ],
      "execution_count": null,
      "outputs": [
        {
          "output_type": "execute_result",
          "data": {
            "text/plain": [
              "array([3, 4, 4, 2, 5, 3, 4, 2, 3, 1])"
            ]
          },
          "metadata": {
            "tags": []
          },
          "execution_count": 8
        }
      ]
    },
    {
      "cell_type": "markdown",
      "metadata": {
        "id": "PunXd_Ey16so"
      },
      "source": [
        "### <a name='6'></a> Exercise 56\n",
        "An example numpy array $ A $ is given below:\n",
        "\n",
        "```\n",
        "A = np.random.randn(10, 4)\n",
        "```\n",
        "\n",
        "```\n",
        "array([[-0.53441645, -1.49505387, -0.78925833,  0.74371128],\n",
        "       [-0.21216142, -0.42686879,  0.50144833,  1.15818665],\n",
        "       [ 0.25711687,  0.3145129 ,  1.37186213,  0.17555329],\n",
        "       [-0.30928855,  0.6731255 , -0.25663018, -0.36782572],\n",
        "       [ 1.27373362, -0.29195267, -2.65517605,  0.34551794],\n",
        "       [-0.39551645, -0.28913686,  0.45293633, -0.16606091],\n",
        "       [ 0.21493883, -2.02231493, -0.94305681,  1.40395874],\n",
        "       [-0.0185508 , -1.67350462, -1.07253183, -0.99258618],\n",
        "       [ 0.10234768, -0.43260928, -0.6591823 ,  0.0039373 ],\n",
        "       [ 0.4777541 , -0.25902864, -0.57470921, -0.42149822]])\n",
        "```\n",
        "\n",
        "Set the numpy library option to print arrays with specified precision. Set its value to 4 and print the $ A $ array."
      ]
    },
    {
      "cell_type": "code",
      "metadata": {
        "id": "lzoi6hKSVMNf",
        "outputId": "46cf06fd-2a14-4a21-a4b0-0de9a0ff7bc1",
        "colab": {
          "base_uri": "https://localhost:8080/",
          "height": 187
        }
      },
      "source": [
        "A = np.random.randn(10, 4)\n",
        "\n",
        "np.set_printoptions(precision=4)\n",
        "A"
      ],
      "execution_count": null,
      "outputs": [
        {
          "output_type": "execute_result",
          "data": {
            "text/plain": [
              "array([[-3.4365, -1.6884,  0.6523, -0.9882],\n",
              "       [-0.538 ,  0.1229,  0.2184, -1.072 ],\n",
              "       [-0.4456, -0.1783, -1.6461, -0.1967],\n",
              "       [-0.3596,  1.8047, -0.0147,  0.9492],\n",
              "       [-0.8974, -1.4852, -1.3179, -1.4868],\n",
              "       [ 0.621 , -0.3806,  0.8338,  0.9452],\n",
              "       [-0.0259,  1.1135,  0.7771,  0.5547],\n",
              "       [-0.228 , -2.0037,  1.0577, -0.1781],\n",
              "       [-0.5512,  0.2235,  1.0467,  1.1817],\n",
              "       [ 0.3463,  0.3278, -1.9515, -0.9578]])"
            ]
          },
          "metadata": {
            "tags": []
          },
          "execution_count": 9
        }
      ]
    },
    {
      "cell_type": "markdown",
      "metadata": {
        "id": "hOhqDRz618Tx"
      },
      "source": [
        "### <a name='7'></a> Exercise 57\n",
        "\n",
        "The following numpy array $ A $ is given:\n",
        "\n",
        "```\n",
        "A = np.array([1.2e-6, 1.7e-7])\n",
        "```\n",
        "Set the precision value to 8. Then set the appropriate numpy library option to suppress mathematical notation. Print the array $ A $.\n",
        "\n",
        "__Expected result:__\n",
        "```\n",
        "array([0.0000012 , 0.00000017])\n",
        "```\n"
      ]
    },
    {
      "cell_type": "code",
      "metadata": {
        "id": "QnUM5k9rVYdu",
        "outputId": "8a0d771b-3112-4a36-efc6-e4bd4790ae34",
        "colab": {
          "base_uri": "https://localhost:8080/",
          "height": 34
        }
      },
      "source": [
        "A = np.array([1.2e-6, 1.7e-7])\n",
        "\n",
        "np.set_printoptions(suppress=True, precision=8)\n",
        "A"
      ],
      "execution_count": null,
      "outputs": [
        {
          "output_type": "execute_result",
          "data": {
            "text/plain": [
              "array([0.0000012 , 0.00000017])"
            ]
          },
          "metadata": {
            "tags": []
          },
          "execution_count": 10
        }
      ]
    },
    {
      "cell_type": "markdown",
      "metadata": {
        "id": "TXUd_4631-gw"
      },
      "source": [
        "### <a name='8'></a> Exercise 58\n",
        "The following numpy array $ A $ is given:\n",
        "```\n",
        "A = np.random.randn(8, 4)\n",
        "```\n",
        "Remove the third column from the $ A $ array.\n",
        "\n",
        "__Expected result:__\n",
        "```\n",
        "array([[-0.55692881, -0.66003196,  0.70856031],\n",
        "       [ 0.22378737, -0.19796576, -0.16889332],\n",
        "       [ 0.26062786,  0.29865445, -0.92259267],\n",
        "       [-2.40317659,  1.79961876, -1.96495796],\n",
        "       [ 0.13051561, -1.7085185 ,  0.54885043],\n",
        "       [ 1.77268727,  0.38751181, -0.05141955],\n",
        "       [-1.80858596, -0.45075211,  0.15332866],\n",
        "       [ 1.94218961, -1.93679529, -1.83350954]])\n",
        "```\n",
        "__Tip:__ Use the _np.delete()_ function.\n"
      ]
    },
    {
      "cell_type": "code",
      "metadata": {
        "id": "B7og-S7tVru7",
        "outputId": "b19ad330-bc4f-4a0d-f96b-55ba7495826e",
        "colab": {
          "base_uri": "https://localhost:8080/",
          "height": 153
        }
      },
      "source": [
        "A = np.random.randn(8, 4)\n",
        "\n",
        "np.delete(A, [2], axis=1)"
      ],
      "execution_count": null,
      "outputs": [
        {
          "output_type": "execute_result",
          "data": {
            "text/plain": [
              "array([[ 0.43422906, -1.02742159, -0.59095391],\n",
              "       [-0.5271181 , -1.24228399, -1.5150011 ],\n",
              "       [-1.76067294,  1.92578974,  0.77499159],\n",
              "       [-1.16856327,  0.24808781, -0.37047962],\n",
              "       [ 0.77815835, -0.00526636, -2.08858014],\n",
              "       [ 0.41175209,  0.37018955,  0.59462819],\n",
              "       [-1.51963519,  0.38580083,  0.83120819],\n",
              "       [ 0.24016826,  0.14801582,  1.85014684]])"
            ]
          },
          "metadata": {
            "tags": []
          },
          "execution_count": 11
        }
      ]
    },
    {
      "cell_type": "markdown",
      "metadata": {
        "id": "tgI6xEn-2AQo"
      },
      "source": [
        "### <a name='9'></a> Exercise 59\n",
        "\n",
        "A one-dimensional array $ v $ (vector) is given:\n",
        "\n",
        "```\n",
        "v = np.array([3, 4, -2])\n",
        "```\n",
        "Calculate the norm of the vetor $ v $.\n"
      ]
    },
    {
      "cell_type": "code",
      "metadata": {
        "id": "A-FzLuaOV2Ck",
        "outputId": "da898f09-8fe5-44a0-aa50-7ad2cc8ace97",
        "colab": {
          "base_uri": "https://localhost:8080/",
          "height": 34
        }
      },
      "source": [
        "v = np.array([3, 4, -2])\n",
        "\n",
        "np.linalg.norm(v)"
      ],
      "execution_count": null,
      "outputs": [
        {
          "output_type": "execute_result",
          "data": {
            "text/plain": [
              "5.385164807134504"
            ]
          },
          "metadata": {
            "tags": []
          },
          "execution_count": 12
        }
      ]
    },
    {
      "cell_type": "markdown",
      "metadata": {
        "id": "wxhpf-uq2B1I"
      },
      "source": [
        "### <a name='10'></a> Exercise 60\n",
        "An example $ A $ array is given below:\n",
        "\n",
        "```\n",
        "A = np.random.randint(10, size=(100, 30))\n",
        "```\n",
        "Set the numpy library option to print 10 edge elements. Print the array $ A $.\n"
      ]
    },
    {
      "cell_type": "code",
      "metadata": {
        "id": "YFc0KW6URsuc",
        "outputId": "affc9100-51ea-4b46-c546-c8d5fc2be4ba",
        "colab": {
          "base_uri": "https://localhost:8080/",
          "height": 374
        }
      },
      "source": [
        "A = np.random.randint(10, size=(100, 30))\n",
        "\n",
        "np.set_printoptions(edgeitems=10)\n",
        "A"
      ],
      "execution_count": null,
      "outputs": [
        {
          "output_type": "execute_result",
          "data": {
            "text/plain": [
              "array([[4, 6, 6, 5, 0, 5, 7, 5, 3, 2, ..., 6, 2, 1, 9, 1, 6, 6, 5, 5, 3],\n",
              "       [4, 1, 2, 8, 1, 8, 0, 8, 7, 7, ..., 9, 8, 9, 8, 3, 2, 8, 5, 1, 8],\n",
              "       [7, 5, 1, 7, 8, 9, 4, 8, 6, 4, ..., 2, 7, 2, 5, 9, 8, 8, 6, 9, 2],\n",
              "       [5, 6, 0, 6, 9, 5, 0, 0, 7, 8, ..., 2, 2, 1, 5, 4, 2, 1, 3, 6, 6],\n",
              "       [0, 5, 0, 0, 6, 6, 4, 1, 0, 0, ..., 5, 0, 0, 4, 8, 3, 9, 8, 2, 6],\n",
              "       [0, 0, 8, 6, 9, 5, 3, 4, 0, 0, ..., 4, 4, 6, 9, 0, 7, 3, 6, 3, 1],\n",
              "       [7, 8, 7, 8, 9, 5, 7, 0, 1, 2, ..., 2, 7, 6, 0, 8, 7, 5, 5, 0, 2],\n",
              "       [4, 0, 7, 1, 5, 9, 4, 2, 5, 1, ..., 9, 4, 7, 9, 2, 1, 6, 4, 9, 0],\n",
              "       [0, 5, 6, 3, 8, 0, 4, 6, 6, 7, ..., 9, 2, 7, 1, 6, 1, 3, 2, 9, 5],\n",
              "       [4, 0, 0, 6, 7, 5, 8, 5, 8, 1, ..., 4, 9, 8, 9, 3, 6, 7, 3, 5, 8],\n",
              "       ...,\n",
              "       [2, 0, 1, 0, 7, 6, 6, 0, 5, 5, ..., 4, 1, 6, 9, 9, 9, 8, 7, 4, 9],\n",
              "       [6, 9, 2, 4, 0, 1, 0, 0, 9, 7, ..., 9, 3, 2, 4, 4, 6, 6, 9, 7, 5],\n",
              "       [2, 9, 3, 0, 0, 2, 5, 3, 8, 0, ..., 6, 2, 5, 3, 5, 8, 0, 7, 7, 0],\n",
              "       [4, 6, 6, 0, 1, 2, 0, 5, 1, 7, ..., 8, 0, 5, 3, 6, 6, 4, 7, 1, 7],\n",
              "       [0, 2, 3, 2, 1, 9, 4, 7, 4, 0, ..., 3, 7, 0, 7, 5, 9, 2, 2, 5, 2],\n",
              "       [7, 9, 1, 1, 2, 4, 0, 1, 9, 4, ..., 0, 6, 4, 1, 1, 6, 4, 7, 2, 6],\n",
              "       [6, 8, 8, 3, 9, 8, 2, 5, 6, 6, ..., 6, 1, 3, 0, 4, 2, 3, 0, 2, 7],\n",
              "       [7, 5, 6, 2, 7, 0, 0, 1, 7, 2, ..., 1, 2, 5, 7, 0, 8, 6, 5, 6, 2],\n",
              "       [6, 5, 9, 0, 6, 1, 0, 7, 6, 0, ..., 5, 3, 6, 7, 6, 3, 2, 9, 1, 5],\n",
              "       [3, 1, 2, 0, 4, 1, 7, 8, 5, 8, ..., 2, 2, 3, 4, 6, 3, 7, 8, 4, 4]])"
            ]
          },
          "metadata": {
            "tags": []
          },
          "execution_count": 13
        }
      ]
    },
    {
      "cell_type": "code",
      "metadata": {
        "id": "AOMG6oQNWCLq"
      },
      "source": [],
      "execution_count": null,
      "outputs": []
    }
  ]
}