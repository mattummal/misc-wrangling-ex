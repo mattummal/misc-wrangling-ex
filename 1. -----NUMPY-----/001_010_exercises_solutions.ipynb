{
  "cells": [
    {
      "cell_type": "markdown",
      "metadata": {
        "id": "WLEgCW5F1hho"
      },
      "source": [
        "## Numpy\n",
        "\n",
        "### Table of contents:\n",
        "* [Import biblioteki](#0)\n",
        "* [Exercise 1](#1)\n",
        "* [Exercise 2](#2)\n",
        "* [Exercise 3](#3)\n",
        "* [Exercise 4](#4)\n",
        "* [Exercise 5](#5)\n",
        "* [Exercise 6](#6)\n",
        "* [Exercise 7](#7)\n",
        "* [Exercise 8](#8)\n",
        "* [Exercise 9](#9)\n",
        "* [Exercise 10](#10)"
      ]
    },
    {
      "cell_type": "markdown",
      "metadata": {
        "id": "zeLOLmTj1kBM"
      },
      "source": [
        "### <a name='0'></a> Import of libraries"
      ]
    },
    {
      "cell_type": "code",
      "execution_count": 1,
      "metadata": {
        "colab": {
          "base_uri": "https://localhost:8080/",
          "height": 35
        },
        "id": "HXMB7SMe1Wnz",
        "outputId": "605d5fa3-d39f-4e31-d0a1-e88e81270b1b"
      },
      "outputs": [
        {
          "data": {
            "text/plain": [
              "'1.23.5'"
            ]
          },
          "execution_count": 1,
          "metadata": {},
          "output_type": "execute_result"
        }
      ],
      "source": [
        "import numpy as np\n",
        "\n",
        "np.__version__"
      ]
    },
    {
      "cell_type": "markdown",
      "metadata": {
        "id": "cyc70pMe1oCg"
      },
      "source": [
        "### <a name='1'></a> Exercise 1\n",
        "Check if all array elements $ A, B, C $ and $ D $ return the logical value _True_.\n",
        "\n",
        "```\n",
        "A = np.array([[3, 2, 1, 4],\n",
        "              [5, 2, 1, 6]])\n",
        "\n",
        "B = np.array([[3, 2, 1, 4],\n",
        "              [5, 2, 0, 6]])\n",
        "\n",
        "C = np.array([[True, False, False],\n",
        "              [True, True, True]])\n",
        "\n",
        "D = np.array([0.1, 0.3])\n",
        "```\n",
        "\n",
        "__Tip:__ Use the function _np.all()_."
      ]
    },
    {
      "cell_type": "code",
      "execution_count": 2,
      "metadata": {
        "colab": {
          "base_uri": "https://localhost:8080/",
          "height": 85
        },
        "id": "B0IVx0-CpcDW",
        "outputId": "26bcb162-c812-471f-d3c4-cec41e2a32b5"
      },
      "outputs": [
        {
          "name": "stdout",
          "output_type": "stream",
          "text": [
            "A: True\n",
            "B: False\n",
            "C: False\n",
            "D: True\n"
          ]
        }
      ],
      "source": [
        "A = np.array([[3, 2, 1, 4],\n",
        "              [5, 2, 1, 6]])\n",
        "\n",
        "B = np.array([[3, 2, 1, 4],\n",
        "              [5, 2, 0, 6]])\n",
        "\n",
        "C = np.array([[True, False, False],\n",
        "              [True, True, True]])\n",
        "\n",
        "D = np.array([0.1, 0.3])\n",
        "\n",
        "for name, array in zip(list('ABCD'), [A, B, C, D]):\n",
        "    print(f'{name}: {np.all(array)}')"
      ]
    },
    {
      "cell_type": "markdown",
      "metadata": {
        "id": "J9pY1rtr1sC0"
      },
      "source": [
        "### <a name='2'></a> Exercise 2\n",
        "Check if all array elements $ A, B $ and $ C $ return the logical value _True_ along the axis with index 1.\n",
        "\n",
        "```\n",
        "A = np.array([[3, 2, 1, 4],\n",
        "              [5, 2, 1, 6]])\n",
        "\n",
        "B = np.array([[3, 2, 1, 4],\n",
        "              [5, 2, 0, 6]])\n",
        "\n",
        "C = np.array([[True, False, False],\n",
        "              [True, True, True]])\n",
        "```\n",
        "\n",
        "__Tip:__ Use the function _np.all()_ with the parameter _axis_."
      ]
    },
    {
      "cell_type": "code",
      "execution_count": null,
      "metadata": {
        "colab": {
          "base_uri": "https://localhost:8080/",
          "height": 68
        },
        "id": "8Vt03pJyp78D",
        "outputId": "29313785-fac6-4b30-b7c6-921c5582b716"
      },
      "outputs": [
        {
          "name": "stdout",
          "output_type": "stream",
          "text": [
            "A: [ True  True]\n",
            "B: [ True False]\n",
            "C: [False  True]\n"
          ]
        }
      ],
      "source": [
        "A = np.array([[3, 2, 1, 4],\n",
        "              [5, 2, 1, 6]])\n",
        "\n",
        "B = np.array([[3, 2, 1, 4],\n",
        "              [5, 2, 0, 6]])\n",
        "\n",
        "C = np.array([[True, False, False],\n",
        "              [True, True, True]])\n",
        "\n",
        "for name, array in zip(list('ABC'), [A, B, C]):\n",
        "    print(f'{name}: {np.all(array, axis=1)}')"
      ]
    },
    {
      "cell_type": "markdown",
      "metadata": {
        "id": "XQLYT2m11wVG"
      },
      "source": [
        "### <a name='3'></a> Exercise 3\n",
        "Check if any element of arrays $ A, B, C $ and $ D $ returns the logical value _True_.\n",
        "\n",
        "```\n",
        "A = np.array([[0, 0, 0],\n",
        "              [0, 0, 0]])\n",
        "\n",
        "B = np.array([[0, 0, 0],\n",
        "              [0, 1, 0]])\n",
        "\n",
        "C = np.array([[False, False, False],\n",
        "              [True, False, False]])\n",
        "\n",
        "D = np.array([[0.1, 0.0]])\n",
        "```\n",
        "\n",
        "__Tip:__ Use the _np.any()_ function."
      ]
    },
    {
      "cell_type": "code",
      "execution_count": null,
      "metadata": {
        "colab": {
          "base_uri": "https://localhost:8080/",
          "height": 85
        },
        "id": "dQ4cIqS7p9zd",
        "outputId": "13ef653f-40fb-44df-8eaf-100591a583cb"
      },
      "outputs": [
        {
          "name": "stdout",
          "output_type": "stream",
          "text": [
            "A: False\n",
            "B: True\n",
            "C: True\n",
            "D: True\n"
          ]
        }
      ],
      "source": [
        "A = np.array([[0, 0, 0],\n",
        "              [0, 0, 0]])\n",
        "\n",
        "B = np.array([[0, 0, 0],\n",
        "              [0, 1, 0]])\n",
        "\n",
        "C = np.array([[False, False, False],\n",
        "              [True, False, False]])\n",
        "\n",
        "D = np.array([[0.1, 0.0]])\n",
        "\n",
        "for name, array in zip(list('ABCD'), [A, B, C, D]):\n",
        "    print(f'{name}: {np.any(array)}')"
      ]
    },
    {
      "cell_type": "markdown",
      "metadata": {
        "id": "4xTKSUzg10MK"
      },
      "source": [
        "### <a name='4'></a> Exercise 4\n",
        "Check if any element of arrays $ A, B, C $ and $ D $ returns the logical value _True_ along the axis with index 0.\n",
        "\n",
        "```\n",
        "A = np.array([[0, 0, 0],\n",
        "              [0, 0, 0]])\n",
        "\n",
        "B = np.array([[0, 0, 0],\n",
        "              [0, 1, 0]])\n",
        "\n",
        "C = np.array([[False, False, False],\n",
        "              [True, False, False]])\n",
        "\n",
        "D = np.array([[0.1, 0.0]])\n",
        "```\n",
        "\n",
        "__Tip:__ Use the _np.any()_ function with the parameter _axis_.\n"
      ]
    },
    {
      "cell_type": "code",
      "execution_count": null,
      "metadata": {
        "colab": {
          "base_uri": "https://localhost:8080/",
          "height": 85
        },
        "id": "yR-X87M1qKFE",
        "outputId": "70359960-f03e-495e-ae84-ba3528dd57ad"
      },
      "outputs": [
        {
          "name": "stdout",
          "output_type": "stream",
          "text": [
            "A: [False False False]\n",
            "B: [False  True False]\n",
            "C: [ True False False]\n",
            "D: [ True False]\n"
          ]
        }
      ],
      "source": [
        "A = np.array([[0, 0, 0],\n",
        "              [0, 0, 0]])\n",
        "\n",
        "B = np.array([[0, 0, 0],\n",
        "              [0, 1, 0]])\n",
        "\n",
        "C = np.array([[False, False, False],\n",
        "              [True, False, False]])\n",
        "\n",
        "D = np.array([[0.1, 0.0]])\n",
        "\n",
        "for name, array in zip(list('ABCD'), [A, B, C, D]):\n",
        "    print(f'{name}: {np.any(array, axis=0)}')"
      ]
    },
    {
      "cell_type": "markdown",
      "metadata": {
        "id": "o3HKIKlP15Ro"
      },
      "source": [
        "### <a name='5'></a> Exercise 5\n",
        "Check the array $ A $ for missing data (_np.nan_).\n",
        "\n",
        "```\n",
        "A = np.array([[3, 2, 1, np.nan],\n",
        "              [5, np.nan, 1, 6]])\n",
        "```\n",
        "__Tip:__ Use the _np.isnan()_ function.\n"
      ]
    },
    {
      "cell_type": "code",
      "execution_count": null,
      "metadata": {
        "colab": {
          "base_uri": "https://localhost:8080/",
          "height": 51
        },
        "id": "Bf65a1SFqn7L",
        "outputId": "c8b139d3-a522-40d7-93d0-90e9e1d0a8f6"
      },
      "outputs": [
        {
          "name": "stdout",
          "output_type": "stream",
          "text": [
            "[[False False False  True]\n",
            " [False  True False False]]\n"
          ]
        }
      ],
      "source": [
        "A = np.array([[3, 2, 1, np.nan],\n",
        "              [5, np.nan, 1, 6]])\n",
        "\n",
        "np.isnan(A)"
      ]
    },
    {
      "cell_type": "markdown",
      "metadata": {
        "id": "PunXd_Ey16so"
      },
      "source": [
        "### <a name='6'></a> Exercise 6\n",
        "Check if the following arrays $ A $ and $ B $ are equal in terms of elements (element-wise) with the specified tolerance level. Use the _np.allclose()_ function with default parameters.\n",
        "\n",
        "```\n",
        "A = np.array([0.4, 0.5, 0.3])\n",
        "B = np.array([0.39999999, 0.5000001, 0.3])\n",
        "```"
      ]
    },
    {
      "cell_type": "code",
      "execution_count": null,
      "metadata": {
        "colab": {
          "base_uri": "https://localhost:8080/",
          "height": 34
        },
        "id": "GFvNmr9erl1D",
        "outputId": "62d05473-ab08-4bf1-cff5-5b2838a4f711"
      },
      "outputs": [
        {
          "data": {
            "text/plain": [
              "True"
            ]
          },
          "execution_count": 7,
          "metadata": {
            "tags": []
          },
          "output_type": "execute_result"
        }
      ],
      "source": [
        "A = np.array([0.4, 0.5, 0.3])\n",
        "B = np.array([0.39999999, 0.5000001, 0.3])\n",
        "\n",
        "np.allclose(A, B)"
      ]
    },
    {
      "cell_type": "markdown",
      "metadata": {
        "id": "hOhqDRz618Tx"
      },
      "source": [
        "### <a name='7'></a> Exercise 7\n",
        "Check if the following arrays $ A $ and $ B $ are equal in terms of elements (element-wise). Use the comparison operator _==_.\n",
        "\n",
        "```\n",
        "A = np.array([0.4, 0.5, 0.3])\n",
        "B = np.array([0.3999999999, 0.5000000001, 0.3])\n",
        "```"
      ]
    },
    {
      "cell_type": "code",
      "execution_count": null,
      "metadata": {
        "colab": {
          "base_uri": "https://localhost:8080/",
          "height": 34
        },
        "id": "gX6r6i6BrwUL",
        "outputId": "9cfc71ef-7c7d-4e53-9041-6ce9d6895bae"
      },
      "outputs": [
        {
          "data": {
            "text/plain": [
              "array([False, False,  True])"
            ]
          },
          "execution_count": 8,
          "metadata": {
            "tags": []
          },
          "output_type": "execute_result"
        }
      ],
      "source": [
        "A = np.array([0.4, 0.5, 0.3])\n",
        "B = np.array([0.3999999999, 0.5000000001, 0.3])\n",
        "\n",
        "# Solution 1\n",
        "A == B"
      ]
    },
    {
      "cell_type": "code",
      "execution_count": null,
      "metadata": {
        "colab": {
          "base_uri": "https://localhost:8080/",
          "height": 34
        },
        "id": "XY0SY4jUrywt",
        "outputId": "876e200f-7c9c-4435-c22f-3575fbc45ef5"
      },
      "outputs": [
        {
          "data": {
            "text/plain": [
              "array([False, False,  True])"
            ]
          },
          "execution_count": 9,
          "metadata": {
            "tags": []
          },
          "output_type": "execute_result"
        }
      ],
      "source": [
        "# Solution 2\n",
        "np.equal(A, B)"
      ]
    },
    {
      "cell_type": "markdown",
      "metadata": {
        "id": "TXUd_4631-gw"
      },
      "source": [
        "### <a name='8'></a> Exercise 8\n",
        "\n",
        "Check which elements (element-wise) from the array $ A $ below have higher values than the array $ B $.\n",
        "\n",
        "```\n",
        "A = np.array([0.4, 0.5, 0.3, 0.9])\n",
        "B = np.array([0.38, 0.51, 0.3, 0.91])\n",
        "```"
      ]
    },
    {
      "cell_type": "code",
      "execution_count": null,
      "metadata": {
        "colab": {
          "base_uri": "https://localhost:8080/",
          "height": 34
        },
        "id": "KkK9env2sCv8",
        "outputId": "b7917de5-7f06-4d22-aa41-5fe9b1911826"
      },
      "outputs": [
        {
          "data": {
            "text/plain": [
              "array([ True, False, False, False])"
            ]
          },
          "execution_count": 10,
          "metadata": {
            "tags": []
          },
          "output_type": "execute_result"
        }
      ],
      "source": [
        "A = np.array([0.4, 0.5, 0.3, 0.9])\n",
        "B = np.array([0.38, 0.51, 0.3, 0.91])\n",
        "\n",
        "# Solution 1\n",
        "A > B"
      ]
    },
    {
      "cell_type": "code",
      "execution_count": null,
      "metadata": {
        "colab": {
          "base_uri": "https://localhost:8080/",
          "height": 34
        },
        "id": "MG0BYnFYsFeG",
        "outputId": "ba675be3-5d95-4090-8dea-eb94341ead81"
      },
      "outputs": [
        {
          "data": {
            "text/plain": [
              "array([ True, False, False, False])"
            ]
          },
          "execution_count": 11,
          "metadata": {
            "tags": []
          },
          "output_type": "execute_result"
        }
      ],
      "source": [
        "# Solution 2\n",
        "np.greater(A, B)"
      ]
    },
    {
      "cell_type": "markdown",
      "metadata": {
        "id": "tgI6xEn-2AQo"
      },
      "source": [
        "### <a name='9'></a> Exercise 9\n",
        "\n",
        "Create an array of numpy dimensions _4x4_ filled with zeros. Set the data type to _int_.\n",
        "\n",
        "__Expected result:__\n",
        "\n",
        "```\n",
        "array([[0, 0, 0, 0],\n",
        "       [0, 0, 0, 0],\n",
        "       [0, 0, 0, 0],\n",
        "       [0, 0, 0, 0]])\n",
        "```\n",
        "__Tip:__ Use the _np.zeros()_ function."
      ]
    },
    {
      "cell_type": "code",
      "execution_count": null,
      "metadata": {
        "colab": {
          "base_uri": "https://localhost:8080/",
          "height": 85
        },
        "id": "FwHWvOAWsbYn",
        "outputId": "fedf0d79-9067-44f2-e067-1dcf7a42e1ef"
      },
      "outputs": [
        {
          "data": {
            "text/plain": [
              "array([[0, 0, 0, 0],\n",
              "       [0, 0, 0, 0],\n",
              "       [0, 0, 0, 0],\n",
              "       [0, 0, 0, 0]])"
            ]
          },
          "execution_count": 12,
          "metadata": {
            "tags": []
          },
          "output_type": "execute_result"
        }
      ],
      "source": [
        "np.zeros(shape=(4, 4), dtype='int')"
      ]
    },
    {
      "cell_type": "markdown",
      "metadata": {
        "id": "wxhpf-uq2B1I"
      },
      "source": [
        "### <a name='10'></a> Exercise 10\n",
        "Create an array of numpy dimensions _10x10_ filled with number 255. Set the data type to _float_.\n",
        "\n",
        "__Expected result:__\n",
        "```\n",
        "array([[255., 255., 255., 255., 255., 255., 255., 255., 255., 255.],\n",
        "       [255., 255., 255., 255., 255., 255., 255., 255., 255., 255.],\n",
        "       [255., 255., 255., 255., 255., 255., 255., 255., 255., 255.],\n",
        "       [255., 255., 255., 255., 255., 255., 255., 255., 255., 255.],\n",
        "       [255., 255., 255., 255., 255., 255., 255., 255., 255., 255.],\n",
        "       [255., 255., 255., 255., 255., 255., 255., 255., 255., 255.],\n",
        "       [255., 255., 255., 255., 255., 255., 255., 255., 255., 255.],\n",
        "       [255., 255., 255., 255., 255., 255., 255., 255., 255., 255.],\n",
        "       [255., 255., 255., 255., 255., 255., 255., 255., 255., 255.],\n",
        "       [255., 255., 255., 255., 255., 255., 255., 255., 255., 255.]])\n",
        "```\n",
        "\n",
        "__Tip:__ Use the _np.ones()_ or _np.full()_ functions."
      ]
    },
    {
      "cell_type": "code",
      "execution_count": null,
      "metadata": {
        "colab": {
          "base_uri": "https://localhost:8080/",
          "height": 187
        },
        "id": "YFc0KW6URsuc",
        "outputId": "ff23adde-2a60-4f36-a96b-991bb448f6b7"
      },
      "outputs": [
        {
          "data": {
            "text/plain": [
              "array([[255., 255., 255., 255., 255., 255., 255., 255., 255., 255.],\n",
              "       [255., 255., 255., 255., 255., 255., 255., 255., 255., 255.],\n",
              "       [255., 255., 255., 255., 255., 255., 255., 255., 255., 255.],\n",
              "       [255., 255., 255., 255., 255., 255., 255., 255., 255., 255.],\n",
              "       [255., 255., 255., 255., 255., 255., 255., 255., 255., 255.],\n",
              "       [255., 255., 255., 255., 255., 255., 255., 255., 255., 255.],\n",
              "       [255., 255., 255., 255., 255., 255., 255., 255., 255., 255.],\n",
              "       [255., 255., 255., 255., 255., 255., 255., 255., 255., 255.],\n",
              "       [255., 255., 255., 255., 255., 255., 255., 255., 255., 255.],\n",
              "       [255., 255., 255., 255., 255., 255., 255., 255., 255., 255.]])"
            ]
          },
          "execution_count": 13,
          "metadata": {
            "tags": []
          },
          "output_type": "execute_result"
        }
      ],
      "source": [
        "# Solution 1\n",
        "np.ones(shape=(10, 10), dtype='float') * 255"
      ]
    },
    {
      "cell_type": "code",
      "execution_count": null,
      "metadata": {
        "colab": {
          "base_uri": "https://localhost:8080/",
          "height": 187
        },
        "id": "yxYyYsHBspk1",
        "outputId": "a3949aab-316f-4320-c02e-b413a20fe736"
      },
      "outputs": [
        {
          "data": {
            "text/plain": [
              "array([[255., 255., 255., 255., 255., 255., 255., 255., 255., 255.],\n",
              "       [255., 255., 255., 255., 255., 255., 255., 255., 255., 255.],\n",
              "       [255., 255., 255., 255., 255., 255., 255., 255., 255., 255.],\n",
              "       [255., 255., 255., 255., 255., 255., 255., 255., 255., 255.],\n",
              "       [255., 255., 255., 255., 255., 255., 255., 255., 255., 255.],\n",
              "       [255., 255., 255., 255., 255., 255., 255., 255., 255., 255.],\n",
              "       [255., 255., 255., 255., 255., 255., 255., 255., 255., 255.],\n",
              "       [255., 255., 255., 255., 255., 255., 255., 255., 255., 255.],\n",
              "       [255., 255., 255., 255., 255., 255., 255., 255., 255., 255.],\n",
              "       [255., 255., 255., 255., 255., 255., 255., 255., 255., 255.]])"
            ]
          },
          "execution_count": 14,
          "metadata": {
            "tags": []
          },
          "output_type": "execute_result"
        }
      ],
      "source": [
        "# Solution 2\n",
        "np.full(shape=(10, 10), fill_value=255, dtype='float')"
      ]
    },
    {
      "cell_type": "code",
      "execution_count": null,
      "metadata": {
        "id": "NzbGStmNsr5_"
      },
      "outputs": [],
      "source": []
    }
  ],
  "metadata": {
    "colab": {
      "provenance": []
    },
    "kernelspec": {
      "display_name": "Python 3",
      "name": "python3"
    },
    "language_info": {
      "codemirror_mode": {
        "name": "ipython",
        "version": 3
      },
      "file_extension": ".py",
      "mimetype": "text/x-python",
      "name": "python",
      "nbconvert_exporter": "python",
      "pygments_lexer": "ipython3",
      "version": "3.10.9"
    }
  },
  "nbformat": 4,
  "nbformat_minor": 0
}
